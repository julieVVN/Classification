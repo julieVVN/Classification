{
 "cells": [
  {
   "cell_type": "markdown",
   "id": "c41ca2b6-0469-43b9-9d65-9e809b67fed9",
   "metadata": {},
   "source": [
    "# <center><span style=\"color:#CD2121\"><u> SDA - Projet 4 Classification :</u><br><br> <span><span style=\"color:#191970\">Prédire le parti victorieux de chaque Etat US aux élections de 2020 <br>~ Partie 2/2 ~<br><br>*Anne & Julie*\n",
    "***"
   ]
  },
  {
   "cell_type": "code",
   "execution_count": 1,
   "id": "74be0aae-c449-48f2-9666-ad062f1de266",
   "metadata": {
    "tags": []
   },
   "outputs": [],
   "source": [
    "%reset -f"
   ]
  },
  {
   "cell_type": "code",
   "execution_count": 2,
   "id": "00d30209-78d7-4d34-a27e-dd0252e2e8a0",
   "metadata": {},
   "outputs": [],
   "source": [
    "import warnings\n",
    "warnings.filterwarnings('ignore')"
   ]
  },
  {
   "cell_type": "code",
   "execution_count": 3,
   "id": "b90b175a-c2f6-4132-b7ae-15412c081397",
   "metadata": {},
   "outputs": [
    {
     "name": "stdout",
     "output_type": "stream",
     "text": [
      "Requirement already satisfied: xgboost in c:\\applications\\lib\\site-packages (1.7.2)\n",
      "Requirement already satisfied: numpy in c:\\applications\\lib\\site-packages (from xgboost) (1.21.5)\n",
      "Requirement already satisfied: scipy in c:\\applications\\lib\\site-packages (from xgboost) (1.9.1)\n",
      "Note: you may need to restart the kernel to use updated packages.\n"
     ]
    }
   ],
   "source": [
    "pip install xgboost"
   ]
  },
  {
   "cell_type": "code",
   "execution_count": 4,
   "id": "788ad3d7-15fa-473a-a915-6a44f401c229",
   "metadata": {},
   "outputs": [],
   "source": [
    "import pandas as pd\n",
    "import numpy as np\n",
    "import matplotlib.pyplot as plt\n",
    "import seaborn as sns\n",
    "import plotly.express as px\n",
    "from sklearn.preprocessing import StandardScaler, OneHotEncoder\n",
    "from sklearn.compose import ColumnTransformer\n",
    "from sklearn.compose import make_column_selector\n",
    "from sklearn.model_selection import (\n",
    "    train_test_split, \n",
    "    GridSearchCV,\n",
    "    cross_val_predict,\n",
    "    cross_validate\n",
    ")\n",
    "from sklearn.pipeline import Pipeline, make_pipeline\n",
    "from sklearn.metrics import (\n",
    "    f1_score\n",
    ")\n",
    "import xgboost as xgb\n",
    "from sklearn.ensemble import (\n",
    "    RandomForestClassifier,\n",
    "    GradientBoostingClassifier\n",
    ")\n",
    "from sklearn.linear_model import LogisticRegression\n",
    "from sklearn.tree import DecisionTreeClassifier\n",
    "from sklearn import svm\n",
    "from sklearn.metrics import classification_report"
   ]
  },
  {
   "cell_type": "markdown",
   "id": "ae194b8e-bd27-4510-a53f-2eb78f2397f0",
   "metadata": {},
   "source": [
    "## <span style=\"color:#191970\">3. Modélisation</span>"
   ]
  },
  {
   "cell_type": "code",
   "execution_count": 5,
   "id": "17c46237-a08b-474f-a7ff-9311879353c7",
   "metadata": {},
   "outputs": [
    {
     "data": {
      "text/html": [
       "<div>\n",
       "<style scoped>\n",
       "    .dataframe tbody tr th:only-of-type {\n",
       "        vertical-align: middle;\n",
       "    }\n",
       "\n",
       "    .dataframe tbody tr th {\n",
       "        vertical-align: top;\n",
       "    }\n",
       "\n",
       "    .dataframe thead th {\n",
       "        text-align: right;\n",
       "    }\n",
       "</style>\n",
       "<table border=\"1\" class=\"dataframe\">\n",
       "  <thead>\n",
       "    <tr style=\"text-align: right;\">\n",
       "      <th></th>\n",
       "      <th>FIPS Code</th>\n",
       "      <th>State_x</th>\n",
       "      <th>Area name</th>\n",
       "      <th>2013 Rural-urban Continuum Code</th>\n",
       "      <th>Percent of adults with less than a high school diploma, 2015-19</th>\n",
       "      <th>Percent of adults with a high school diploma only, 2015-19</th>\n",
       "      <th>Percent of adults completing some college or associate's degree, 2015-19</th>\n",
       "      <th>Percent of adults with a bachelor's degree or higher, 2015-19</th>\n",
       "      <th>PCTPOVALL_2019</th>\n",
       "      <th>Unemployment_rate_2019</th>\n",
       "      <th>Med_HH_Income_Percent_of_State_Total_2019</th>\n",
       "      <th>POP_ESTIMATE_2019</th>\n",
       "      <th>N_POP_CHG_2019</th>\n",
       "      <th>R_NATURAL_INC_2019</th>\n",
       "      <th>R_INTERNATIONAL_MIG_2019</th>\n",
       "      <th>R_NET_MIG_2019</th>\n",
       "      <th>target</th>\n",
       "    </tr>\n",
       "  </thead>\n",
       "  <tbody>\n",
       "    <tr>\n",
       "      <th>0</th>\n",
       "      <td>39061</td>\n",
       "      <td>OH</td>\n",
       "      <td>Hamilton County</td>\n",
       "      <td>1.0</td>\n",
       "      <td>8.628272</td>\n",
       "      <td>26.287451</td>\n",
       "      <td>27.164076</td>\n",
       "      <td>37.920200</td>\n",
       "      <td>14.6</td>\n",
       "      <td>3.8</td>\n",
       "      <td>102.635254</td>\n",
       "      <td>817473.0</td>\n",
       "      <td>2028.0</td>\n",
       "      <td>3.433118</td>\n",
       "      <td>1.311762</td>\n",
       "      <td>-0.906353</td>\n",
       "      <td>0.0</td>\n",
       "    </tr>\n",
       "    <tr>\n",
       "      <th>1</th>\n",
       "      <td>28083</td>\n",
       "      <td>MS</td>\n",
       "      <td>Leflore County</td>\n",
       "      <td>5.0</td>\n",
       "      <td>18.378925</td>\n",
       "      <td>38.162109</td>\n",
       "      <td>24.978935</td>\n",
       "      <td>18.480032</td>\n",
       "      <td>35.7</td>\n",
       "      <td>7.5</td>\n",
       "      <td>64.638130</td>\n",
       "      <td>28183.0</td>\n",
       "      <td>-433.0</td>\n",
       "      <td>1.725382</td>\n",
       "      <td>-0.176059</td>\n",
       "      <td>-17.007342</td>\n",
       "      <td>0.0</td>\n",
       "    </tr>\n",
       "    <tr>\n",
       "      <th>2</th>\n",
       "      <td>37087</td>\n",
       "      <td>NC</td>\n",
       "      <td>Haywood County</td>\n",
       "      <td>2.0</td>\n",
       "      <td>11.997293</td>\n",
       "      <td>26.363478</td>\n",
       "      <td>35.651283</td>\n",
       "      <td>25.987947</td>\n",
       "      <td>10.6</td>\n",
       "      <td>3.4</td>\n",
       "      <td>89.935181</td>\n",
       "      <td>62317.0</td>\n",
       "      <td>427.0</td>\n",
       "      <td>-2.882285</td>\n",
       "      <td>-0.370349</td>\n",
       "      <td>9.774006</td>\n",
       "      <td>1.0</td>\n",
       "    </tr>\n",
       "    <tr>\n",
       "      <th>3</th>\n",
       "      <td>20029</td>\n",
       "      <td>KS</td>\n",
       "      <td>Cloud County</td>\n",
       "      <td>7.0</td>\n",
       "      <td>7.048825</td>\n",
       "      <td>31.561407</td>\n",
       "      <td>37.427097</td>\n",
       "      <td>23.962673</td>\n",
       "      <td>13.5</td>\n",
       "      <td>3.2</td>\n",
       "      <td>74.642097</td>\n",
       "      <td>8786.0</td>\n",
       "      <td>52.0</td>\n",
       "      <td>-2.968037</td>\n",
       "      <td>0.570776</td>\n",
       "      <td>9.018265</td>\n",
       "      <td>1.0</td>\n",
       "    </tr>\n",
       "    <tr>\n",
       "      <th>4</th>\n",
       "      <td>38013</td>\n",
       "      <td>ND</td>\n",
       "      <td>Burke County</td>\n",
       "      <td>9.0</td>\n",
       "      <td>7.409880</td>\n",
       "      <td>27.770361</td>\n",
       "      <td>42.056076</td>\n",
       "      <td>22.763685</td>\n",
       "      <td>8.8</td>\n",
       "      <td>2.3</td>\n",
       "      <td>100.212158</td>\n",
       "      <td>2115.0</td>\n",
       "      <td>21.0</td>\n",
       "      <td>4.276550</td>\n",
       "      <td>0.000000</td>\n",
       "      <td>5.702067</td>\n",
       "      <td>1.0</td>\n",
       "    </tr>\n",
       "  </tbody>\n",
       "</table>\n",
       "</div>"
      ],
      "text/plain": [
       "   FIPS Code State_x        Area name  2013 Rural-urban Continuum Code  \\\n",
       "0      39061      OH  Hamilton County                              1.0   \n",
       "1      28083      MS   Leflore County                              5.0   \n",
       "2      37087      NC   Haywood County                              2.0   \n",
       "3      20029      KS     Cloud County                              7.0   \n",
       "4      38013      ND     Burke County                              9.0   \n",
       "\n",
       "   Percent of adults with less than a high school diploma, 2015-19  \\\n",
       "0                                           8.628272                 \n",
       "1                                          18.378925                 \n",
       "2                                          11.997293                 \n",
       "3                                           7.048825                 \n",
       "4                                           7.409880                 \n",
       "\n",
       "   Percent of adults with a high school diploma only, 2015-19  \\\n",
       "0                                          26.287451            \n",
       "1                                          38.162109            \n",
       "2                                          26.363478            \n",
       "3                                          31.561407            \n",
       "4                                          27.770361            \n",
       "\n",
       "   Percent of adults completing some college or associate's degree, 2015-19  \\\n",
       "0                                          27.164076                          \n",
       "1                                          24.978935                          \n",
       "2                                          35.651283                          \n",
       "3                                          37.427097                          \n",
       "4                                          42.056076                          \n",
       "\n",
       "   Percent of adults with a bachelor's degree or higher, 2015-19  \\\n",
       "0                                          37.920200               \n",
       "1                                          18.480032               \n",
       "2                                          25.987947               \n",
       "3                                          23.962673               \n",
       "4                                          22.763685               \n",
       "\n",
       "   PCTPOVALL_2019  Unemployment_rate_2019  \\\n",
       "0            14.6                     3.8   \n",
       "1            35.7                     7.5   \n",
       "2            10.6                     3.4   \n",
       "3            13.5                     3.2   \n",
       "4             8.8                     2.3   \n",
       "\n",
       "   Med_HH_Income_Percent_of_State_Total_2019  POP_ESTIMATE_2019  \\\n",
       "0                                 102.635254           817473.0   \n",
       "1                                  64.638130            28183.0   \n",
       "2                                  89.935181            62317.0   \n",
       "3                                  74.642097             8786.0   \n",
       "4                                 100.212158             2115.0   \n",
       "\n",
       "   N_POP_CHG_2019  R_NATURAL_INC_2019  R_INTERNATIONAL_MIG_2019  \\\n",
       "0          2028.0            3.433118                  1.311762   \n",
       "1          -433.0            1.725382                 -0.176059   \n",
       "2           427.0           -2.882285                 -0.370349   \n",
       "3            52.0           -2.968037                  0.570776   \n",
       "4            21.0            4.276550                  0.000000   \n",
       "\n",
       "   R_NET_MIG_2019  target  \n",
       "0       -0.906353     0.0  \n",
       "1      -17.007342     0.0  \n",
       "2        9.774006     1.0  \n",
       "3        9.018265     1.0  \n",
       "4        5.702067     1.0  "
      ]
     },
     "execution_count": 5,
     "metadata": {},
     "output_type": "execute_result"
    }
   ],
   "source": [
    "#import du df nettoyé\n",
    "df_train_prepro = pd.read_csv('data\\outputs\\df_train_prepro.csv', sep=',')\n",
    "df_train_prepro.head()"
   ]
  },
  {
   "cell_type": "markdown",
   "id": "f13558c9-3688-4db3-88f0-35a01648ce38",
   "metadata": {},
   "source": [
    "### <span style=\"color:#191970\">3.1. Mise en forme des données pour l'entrainement</span>"
   ]
  },
  {
   "cell_type": "code",
   "execution_count": 6,
   "id": "29959980-fa41-41cd-a5be-911548c2eeb7",
   "metadata": {},
   "outputs": [
    {
     "data": {
      "text/plain": [
       "1.0    2054\n",
       "0.0     437\n",
       "Name: target, dtype: int64"
      ]
     },
     "execution_count": 6,
     "metadata": {},
     "output_type": "execute_result"
    }
   ],
   "source": [
    "df_train_prepro['target'].value_counts()"
   ]
  },
  {
   "cell_type": "code",
   "execution_count": 7,
   "id": "5fc3c666-fb5b-4da8-9971-6c6f1f8bce07",
   "metadata": {},
   "outputs": [
    {
     "data": {
      "text/plain": [
       "1.0    0.824568\n",
       "0.0    0.175432\n",
       "Name: target, dtype: float64"
      ]
     },
     "execution_count": 7,
     "metadata": {},
     "output_type": "execute_result"
    }
   ],
   "source": [
    "df_train_prepro['target'].value_counts(normalize=True)"
   ]
  },
  {
   "cell_type": "code",
   "execution_count": 8,
   "id": "c30727c2-cb02-4799-8986-0fd673ca8430",
   "metadata": {},
   "outputs": [
    {
     "data": {
      "text/plain": [
       "TX    204\n",
       "GA    127\n",
       "VA    107\n",
       "KY     96\n",
       "MO     92\n",
       "KS     84\n",
       "IL     82\n",
       "NC     80\n",
       "IA     79\n",
       "TN     76\n",
       "NE     74\n",
       "IN     74\n",
       "OH     71\n",
       "MN     69\n",
       "MI     66\n",
       "MS     65\n",
       "OK     61\n",
       "AR     61\n",
       "WI     57\n",
       "PA     53\n",
       "SD     53\n",
       "FL     53\n",
       "AL     53\n",
       "CO     52\n",
       "LA     52\n",
       "NY     49\n",
       "CA     46\n",
       "MT     45\n",
       "WV     44\n",
       "ND     42\n",
       "SC     37\n",
       "ID     36\n",
       "WA     31\n",
       "OR     29\n",
       "NM     26\n",
       "UT     24\n",
       "MD     19\n",
       "WY     19\n",
       "NJ     17\n",
       "NV     14\n",
       "ME     13\n",
       "VT     12\n",
       "AZ     12\n",
       "MA     11\n",
       "NH      8\n",
       "CT      6\n",
       "RI      4\n",
       "HI      3\n",
       "DE      2\n",
       "DC      1\n",
       "Name: State_x, dtype: int64"
      ]
     },
     "execution_count": 8,
     "metadata": {},
     "output_type": "execute_result"
    }
   ],
   "source": [
    "df_train_prepro['State_x'].value_counts()"
   ]
  },
  {
   "cell_type": "code",
   "execution_count": 9,
   "id": "d78468e9-a5c7-40d3-a093-b9fa391d968e",
   "metadata": {},
   "outputs": [],
   "source": [
    "comptage = df_train_prepro.groupby(['State_x', 'target']).count()"
   ]
  },
  {
   "cell_type": "code",
   "execution_count": 10,
   "id": "b983631d-378b-4650-a50d-00a29e7a1052",
   "metadata": {},
   "outputs": [
    {
     "data": {
      "text/plain": [
       "State_x  target\n",
       "AL       0.0        11\n",
       "         1.0        42\n",
       "AR       0.0         6\n",
       "         1.0        55\n",
       "AZ       0.0         4\n",
       "         1.0         8\n",
       "CA       0.0        28\n",
       "         1.0        18\n",
       "CO       0.0        18\n",
       "         1.0        34\n",
       "CT       0.0         6\n",
       "DC       0.0         1\n",
       "DE       0.0         2\n",
       "FL       0.0        10\n",
       "         1.0        43\n",
       "GA       0.0        25\n",
       "         1.0       102\n",
       "HI       0.0         3\n",
       "IA       0.0         6\n",
       "         1.0        73\n",
       "ID       0.0         1\n",
       "         1.0        35\n",
       "IL       0.0        10\n",
       "         1.0        72\n",
       "IN       0.0         4\n",
       "         1.0        70\n",
       "KS       0.0         4\n",
       "         1.0        80\n",
       "KY       0.0         2\n",
       "         1.0        94\n",
       "Name: FIPS Code, dtype: int64"
      ]
     },
     "execution_count": 10,
     "metadata": {},
     "output_type": "execute_result"
    }
   ],
   "source": [
    "comptage['FIPS Code'].head(30)"
   ]
  },
  {
   "cell_type": "code",
   "execution_count": 11,
   "id": "67e097b0-500b-475d-bfa0-ca9e753d479a",
   "metadata": {},
   "outputs": [],
   "source": [
    "y_train = df_train_prepro['target'].values\n",
    "X_train = df_train_prepro.drop(columns=['target'])"
   ]
  },
  {
   "cell_type": "markdown",
   "id": "b55af581-efe0-439f-a78d-f4c7091ca82e",
   "metadata": {},
   "source": [
    "### <span style=\"color:#191970\">3.2. Préparation pipeline</span>"
   ]
  },
  {
   "cell_type": "code",
   "execution_count": 12,
   "id": "07848b13-73d4-4fa0-a602-51b6d72a8afd",
   "metadata": {},
   "outputs": [],
   "source": [
    "SEED = 0\n",
    "\n",
    "standard_scaler = StandardScaler() #pour standardiser les échelles \n",
    "one_hot_encoder = OneHotEncoder(drop='first', handle_unknown='ignore') #OHE car les variables catégorielles se sont pas ordinales\n",
    "\n",
    "preprocessor = ColumnTransformer(\n",
    "    transformers=[\n",
    "        (\"numerical_code\", standard_scaler, make_column_selector(dtype_include=np.int64)),\n",
    "        (\"numerical_var\", standard_scaler, make_column_selector(dtype_include=np.float64)),\n",
    "        (\"categorical\", one_hot_encoder, make_column_selector(dtype_include=object))        \n",
    "    ], remainder=\"passthrough\"\n",
    ")"
   ]
  },
  {
   "cell_type": "markdown",
   "id": "20589836-fff6-4c02-a8f6-0c03adeec08e",
   "metadata": {},
   "source": [
    "### <span style=\"color:#011C5D\">3.3. Pré-sélection de modèles</span>"
   ]
  },
  {
   "cell_type": "code",
   "execution_count": 13,
   "id": "f1863c74-8897-48c9-abea-65f592b88415",
   "metadata": {
    "tags": []
   },
   "outputs": [
    {
     "name": "stdout",
     "output_type": "stream",
     "text": [
      "Logistic Regression: 94.78 %\n",
      "Random Forest: 94.21 %\n",
      "Gradient boosting: 94.49 %\n",
      "Decision Tree: 92.42 %\n",
      "SVM with polynomial kernel: 94.15 %\n",
      "XGBoost: 94.75 %\n"
     ]
    }
   ],
   "source": [
    "clf_candidates = {\n",
    "    \"Logistic Regression\": LogisticRegression(max_iter=1000, random_state=SEED),\n",
    "    \"Random Forest\": RandomForestClassifier(random_state=SEED),\n",
    "    \"Gradient boosting\": GradientBoostingClassifier(random_state=SEED),\n",
    "    \"Decision Tree\": DecisionTreeClassifier(random_state=SEED),\n",
    "    \"SVM with polynomial kernel\": svm.SVC(kernel=\"poly\", degree=3, random_state=SEED),\n",
    "    \"XGBoost\": xgb.XGBClassifier(use_label_encoder=False, n_jobs=5)\n",
    "}\n",
    "results = []\n",
    "for clf_name in clf_candidates:\n",
    "    pipe = Pipeline([\n",
    "        ('preprocessor', preprocessor), \n",
    "        ('classifier', clf_candidates[clf_name])\n",
    "    ])\n",
    "    y_train_pred = cross_val_predict(pipe, X_train, y_train, \n",
    "                                     cv=5, n_jobs=5)\n",
    "    f1 = f1_score(y_train, y_train_pred)\n",
    "    results.append(round(f1*100,2))\n",
    "    print(f\"{clf_name}: {round(f1*100,2)} %\")\n",
    "\n",
    "f1_score_avt_gscv = pd.DataFrame({'f1_score_avt_grid': results},\n",
    "                          index = ['Logistic Regression', 'Random Forest', 'Gradient boosting', 'Decision Tree', 'SVM', 'XGBoost'] \n",
    "                          )"
   ]
  },
  {
   "cell_type": "code",
   "execution_count": 14,
   "id": "60ddb04d-230e-48db-8788-14975f801971",
   "metadata": {},
   "outputs": [
    {
     "name": "stdout",
     "output_type": "stream",
     "text": [
      "                     f1_score_avt_grid\n",
      "Logistic Regression              94.78\n",
      "Random Forest                    94.21\n",
      "Gradient boosting                94.49\n",
      "Decision Tree                    92.42\n",
      "SVM                              94.15\n",
      "XGBoost                          94.75\n"
     ]
    }
   ],
   "source": [
    "print(f1_score_avt_gscv)"
   ]
  },
  {
   "cell_type": "code",
   "execution_count": 15,
   "id": "dd86b769-6842-4834-81ee-e2f1aa1e15c6",
   "metadata": {},
   "outputs": [
    {
     "data": {
      "image/png": "[encoded data removed]",
      "text/plain": [
       "<Figure size 640x480 with 1 Axes>"
      ]
     },
     "metadata": {},
     "output_type": "display_data"
    }
   ],
   "source": [
    "# Représentation F1_score par modèle\n",
    "\n",
    "def add_value_label(x_list,y_list):\n",
    "    for i in range(0, len(x_list)):\n",
    "        plt.text(i,y_list[i],y_list[i], ha=\"center\")\n",
    "\n",
    "list_f1_score = results\n",
    "modeles = ['Logistic Regression','Random Forest','Gradient boosting','Decision Tree','SVM','XGBoost']\n",
    "\n",
    "plt.title(\"F1_score par modèle\")\n",
    "f1_score_avt_gscv['f1_score_avt_grid'].plot.bar(rot=45,fontsize=9)\n",
    "add_value_label(modeles,list_f1_score)\n",
    "plt.ylabel(\"f1_score_avt_grid\",fontsize=9)\n",
    "plt.xlabel(\"Modèles\")\n",
    "plt.show()"
   ]
  },
  {
   "cell_type": "code",
   "execution_count": 16,
   "id": "6e65804c-9f19-47a9-9ae9-8e281a05212d",
   "metadata": {},
   "outputs": [],
   "source": [
    "f1_score_avt_gscv_best = f1_score_avt_gscv.loc[[\"Logistic Regression\", \"Gradient boosting\", \"XGBoost\"]]"
   ]
  },
  {
   "cell_type": "code",
   "execution_count": 17,
   "id": "db0a264e-fb51-4ee9-8fe8-95a595712666",
   "metadata": {},
   "outputs": [
    {
     "data": {
      "text/html": [
       "<div>\n",
       "<style scoped>\n",
       "    .dataframe tbody tr th:only-of-type {\n",
       "        vertical-align: middle;\n",
       "    }\n",
       "\n",
       "    .dataframe tbody tr th {\n",
       "        vertical-align: top;\n",
       "    }\n",
       "\n",
       "    .dataframe thead th {\n",
       "        text-align: right;\n",
       "    }\n",
       "</style>\n",
       "<table border=\"1\" class=\"dataframe\">\n",
       "  <thead>\n",
       "    <tr style=\"text-align: right;\">\n",
       "      <th></th>\n",
       "      <th>f1_score_avt_grid</th>\n",
       "    </tr>\n",
       "  </thead>\n",
       "  <tbody>\n",
       "    <tr>\n",
       "      <th>Logistic Regression</th>\n",
       "      <td>94.78</td>\n",
       "    </tr>\n",
       "    <tr>\n",
       "      <th>Gradient boosting</th>\n",
       "      <td>94.49</td>\n",
       "    </tr>\n",
       "    <tr>\n",
       "      <th>XGBoost</th>\n",
       "      <td>94.75</td>\n",
       "    </tr>\n",
       "  </tbody>\n",
       "</table>\n",
       "</div>"
      ],
      "text/plain": [
       "                     f1_score_avt_grid\n",
       "Logistic Regression              94.78\n",
       "Gradient boosting                94.49\n",
       "XGBoost                          94.75"
      ]
     },
     "execution_count": 17,
     "metadata": {},
     "output_type": "execute_result"
    }
   ],
   "source": [
    "# 3 meilleurs modèles :\n",
    "\n",
    "f1_score_avt_gscv_best"
   ]
  },
  {
   "cell_type": "markdown",
   "id": "5a66be0f-7dc7-4db4-b3a9-67b48a79dc0b",
   "metadata": {
    "tags": []
   },
   "source": [
    "### <span style=\"color:#011C5D\">3.4. Optimisation modèles : Grid-search</span>"
   ]
  },
  {
   "cell_type": "markdown",
   "id": "5f02ece5-9530-4ef3-9235-e4b2faf296a6",
   "metadata": {},
   "source": [
    "#### <span style=\"color:#011C5D\">Regression logistique</span>"
   ]
  },
  {
   "cell_type": "code",
   "execution_count": 18,
   "id": "a79f191c-0476-47a6-be27-f4658128e46e",
   "metadata": {},
   "outputs": [],
   "source": [
    "f1_score_ap_gscv = []"
   ]
  },
  {
   "cell_type": "code",
   "execution_count": 19,
   "id": "e14578cf-8b22-4b9d-a8ef-addf9444db23",
   "metadata": {},
   "outputs": [
    {
     "name": "stdout",
     "output_type": "stream",
     "text": [
      "Fitting 5 folds for each of 144 candidates, totalling 720 fits\n"
     ]
    },
    {
     "data": {
      "text/plain": [
       "GridSearchCV(cv=5,\n",
       "             estimator=Pipeline(steps=[('preprocessor',\n",
       "                                        ColumnTransformer(remainder='passthrough',\n",
       "                                                          transformers=[('numerical_code',\n",
       "                                                                         StandardScaler(),\n",
       "                                                                         <sklearn.compose._column_transformer.make_column_selector object at 0x0000029557F7C0D0>),\n",
       "                                                                        ('numerical_var',\n",
       "                                                                         StandardScaler(),\n",
       "                                                                         <sklearn.compose._column_transformer.make_column_selector object at 0x0000029557F7...\n",
       "                                                                         <sklearn.compose._column_transformer.make_column_selector object at 0x0000029557F7C8B0>)])),\n",
       "                                       ('classifier',\n",
       "                                        LogisticRegression(max_iter=1000,\n",
       "                                                           random_state=0))]),\n",
       "             n_jobs=5,\n",
       "             param_grid={'classifier__C': [0.001, 0.01, 0.1, 1, 10, 100],\n",
       "                         'classifier__max_iter': [20, 50, 100, 200, 500, 1000],\n",
       "                         'classifier__penalty': ['l1', 'l2'],\n",
       "                         'classifier__solver': ['lbfgs', 'saga']},\n",
       "             scoring='f1', verbose=1)"
      ]
     },
     "execution_count": 19,
     "metadata": {},
     "output_type": "execute_result"
    }
   ],
   "source": [
    "pipe_lr = Pipeline([\n",
    "        ('preprocessor', preprocessor), \n",
    "        ('classifier', LogisticRegression(max_iter = 1000, random_state = SEED))\n",
    "    ])\n",
    "\n",
    "param_grid_lr = {\n",
    "    'classifier__C':[0.001, 0.01, 0.1, 1, 10, 100],\n",
    "    'classifier__penalty':['l1', 'l2'],    \n",
    "    'classifier__max_iter':[20, 50, 100, 200, 500, 1000],\n",
    "    'classifier__solver':['lbfgs', 'saga'],\n",
    "}\n",
    "    \n",
    "pipe_gscv_lr = GridSearchCV(pipe_lr, param_grid=param_grid_lr, scoring = \"f1\", \n",
    "                         cv=5, n_jobs=5, verbose=1)\n",
    "\n",
    "pipe_gscv_lr.fit(X_train,y_train)"
   ]
  },
  {
   "cell_type": "code",
   "execution_count": 20,
   "id": "e065d683-5545-4f4a-a5ad-31fc1eddaf95",
   "metadata": {},
   "outputs": [],
   "source": [
    "f1_score_ap_gscv.append(round(pipe_gscv_lr.best_score_*100,2))"
   ]
  },
  {
   "cell_type": "code",
   "execution_count": 21,
   "id": "d59ed79a-35f5-47e3-b265-39be9c6862c3",
   "metadata": {},
   "outputs": [
    {
     "name": "stdout",
     "output_type": "stream",
     "text": [
      "Le score F1, après optimisation des hyperparamètres, pour la regression logistique est de 94.94 %\n",
      "Les meilleurs hyperparamètres sont :\n",
      "{'classifier__C': 1, 'classifier__max_iter': 500, 'classifier__penalty': 'l1', 'classifier__solver': 'saga'}\n"
     ]
    }
   ],
   "source": [
    "print(f\"Le score F1, après optimisation des hyperparamètres, pour la regression logistique est de {round(pipe_gscv_lr.best_score_ *100,2)} %\")\n",
    "print(f\"Les meilleurs hyperparamètres sont :\")\n",
    "print(pipe_gscv_lr.best_params_)"
   ]
  },
  {
   "cell_type": "markdown",
   "id": "40052cb2-83a2-4825-b0f3-810186833ad0",
   "metadata": {},
   "source": [
    "#### <span style=\"color:#011C5D\">Gradient boosting</span>"
   ]
  },
  {
   "cell_type": "code",
   "execution_count": 22,
   "id": "8e03c7b8-6296-48d7-9701-f82a21d368fc",
   "metadata": {},
   "outputs": [
    {
     "name": "stdout",
     "output_type": "stream",
     "text": [
      "Fitting 5 folds for each of 64 candidates, totalling 320 fits\n"
     ]
    },
    {
     "data": {
      "text/plain": [
       "GridSearchCV(cv=5,\n",
       "             estimator=Pipeline(steps=[('preprocessor',\n",
       "                                        ColumnTransformer(remainder='passthrough',\n",
       "                                                          transformers=[('numerical_code',\n",
       "                                                                         StandardScaler(),\n",
       "                                                                         <sklearn.compose._column_transformer.make_column_selector object at 0x0000029557F7C0D0>),\n",
       "                                                                        ('numerical_var',\n",
       "                                                                         StandardScaler(),\n",
       "                                                                         <sklearn.compose._column_transformer.make_column_selector object at 0x0000029557F7...\n",
       "                                                                                       handle_unknown='ignore'),\n",
       "                                                                         <sklearn.compose._column_transformer.make_column_selector object at 0x0000029557F7C8B0>)])),\n",
       "                                       ('classifier',\n",
       "                                        GradientBoostingClassifier(random_state=0))]),\n",
       "             n_jobs=5,\n",
       "             param_grid={'classifier__learning_rate': [0.01, 0.1, 1, 10],\n",
       "                         'classifier__max_leaf_nodes': [2, 10, 50, 100],\n",
       "                         'classifier__n_estimators': [50, 100, 200, 500]},\n",
       "             scoring='f1', verbose=1)"
      ]
     },
     "execution_count": 22,
     "metadata": {},
     "output_type": "execute_result"
    }
   ],
   "source": [
    "pipe_gb = Pipeline([\n",
    "        ('preprocessor', preprocessor), \n",
    "        ('classifier', GradientBoostingClassifier(random_state=SEED))\n",
    "    ])\n",
    "\n",
    "param_grid_gb = {\n",
    "    'classifier__learning_rate': [0.01, 0.1, 1, 10],\n",
    "    \"classifier__n_estimators\": [50, 100, 200, 500],\n",
    "    \"classifier__max_leaf_nodes\": [2, 10, 50, 100]\n",
    "}\n",
    "\n",
    "\n",
    "pipe_gscv_gb = GridSearchCV(pipe_gb, param_grid=param_grid_gb, scoring=\"f1\", \n",
    "                         cv=5, n_jobs=5, verbose=1)\n",
    "\n",
    "pipe_gscv_gb.fit(X_train, y_train)"
   ]
  },
  {
   "cell_type": "code",
   "execution_count": 23,
   "id": "4fdce678-6c8f-4037-bfea-4a22a071949e",
   "metadata": {},
   "outputs": [],
   "source": [
    "f1_score_ap_gscv.append(round(pipe_gscv_gb.best_score_*100,2))"
   ]
  },
  {
   "cell_type": "code",
   "execution_count": 24,
   "id": "d80dfcdf-de91-4dc6-8c0a-49dcbcbe1c67",
   "metadata": {},
   "outputs": [
    {
     "name": "stdout",
     "output_type": "stream",
     "text": [
      "Le score F1, après optimisation des hyperparamètres, pour le Gradient Boosting est de 94.52 %\n",
      "Les meilleurs hyperparamètres sont :\n",
      "{'classifier__learning_rate': 0.1, 'classifier__max_leaf_nodes': 10, 'classifier__n_estimators': 200}\n"
     ]
    }
   ],
   "source": [
    "print(f\"Le score F1, après optimisation des hyperparamètres, pour le Gradient Boosting est de {round(pipe_gscv_gb.best_score_ *100,2)} %\")\n",
    "print(f\"Les meilleurs hyperparamètres sont :\")\n",
    "print(pipe_gscv_gb.best_params_)"
   ]
  },
  {
   "cell_type": "markdown",
   "id": "5f127501-4dd7-44f1-9adf-3f2d98e50cce",
   "metadata": {},
   "source": [
    "#### <span style=\"color:#011C5D\">XGBoost</span>"
   ]
  },
  {
   "cell_type": "code",
   "execution_count": 25,
   "id": "bf4b53c3-6648-48bd-896c-6b1f48e036b7",
   "metadata": {
    "tags": []
   },
   "outputs": [
    {
     "name": "stdout",
     "output_type": "stream",
     "text": [
      "Fitting 5 folds for each of 96 candidates, totalling 480 fits\n"
     ]
    },
    {
     "data": {
      "text/plain": [
       "GridSearchCV(cv=5,\n",
       "             estimator=Pipeline(steps=[('preprocessor',\n",
       "                                        ColumnTransformer(remainder='passthrough',\n",
       "                                                          transformers=[('numerical_code',\n",
       "                                                                         StandardScaler(),\n",
       "                                                                         <sklearn.compose._column_transformer.make_column_selector object at 0x0000029557F7C0D0>),\n",
       "                                                                        ('numerical_var',\n",
       "                                                                         StandardScaler(),\n",
       "                                                                         <sklearn.compose._column_transformer.make_column_selector object at 0x0000029557F7...\n",
       "                                                      max_depth=None,\n",
       "                                                      max_leaves=None,\n",
       "                                                      min_child_weight=None,\n",
       "                                                      missing=nan,\n",
       "                                                      monotone_constraints=None,\n",
       "                                                      n_estimators=100,\n",
       "                                                      n_jobs=5,\n",
       "                                                      num_parallel_tree=None,\n",
       "                                                      predictor=None,\n",
       "                                                      random_state=None, ...))]),\n",
       "             n_jobs=5,\n",
       "             param_grid={'classifier__learning_rate': [0.1, 0.01, 0.05],\n",
       "                         'classifier__max_depth': range(2, 10),\n",
       "                         'classifier__n_estimators': range(60, 220, 40)},\n",
       "             scoring='f1', verbose=1)"
      ]
     },
     "execution_count": 25,
     "metadata": {},
     "output_type": "execute_result"
    }
   ],
   "source": [
    "pipe_xg = Pipeline([\n",
    "        ('preprocessor', preprocessor), \n",
    "        ('classifier', xgb.XGBClassifier(use_label_encoder=False, n_jobs=5))\n",
    "    ])\n",
    "\n",
    "param_grid_xg = {\n",
    "    'classifier__max_depth': range (2, 10, 1),\n",
    "    'classifier__n_estimators': range(60, 220, 40),\n",
    "    'classifier__learning_rate': [0.1, 0.01, 0.05]\n",
    "}\n",
    "\n",
    "pipe_gscv_xg = GridSearchCV(pipe_xg, param_grid=param_grid_xg, scoring=\"f1\", \n",
    "                         cv=5, n_jobs=5, verbose=1)\n",
    "\n",
    "pipe_gscv_xg.fit(X_train, y_train)"
   ]
  },
  {
   "cell_type": "code",
   "execution_count": 26,
   "id": "40910a8e-6d78-4154-a949-670c1f8559f5",
   "metadata": {},
   "outputs": [
    {
     "name": "stdout",
     "output_type": "stream",
     "text": [
      "Le score F1, après optimisation des hyperparamètres, pour le XGBoost est de 94.85 %\n",
      "Les meilleurs hyperparamètres sont :\n",
      "{'classifier__learning_rate': 0.1, 'classifier__max_depth': 8, 'classifier__n_estimators': 180}\n"
     ]
    }
   ],
   "source": [
    "print(f\"Le score F1, après optimisation des hyperparamètres, pour le XGBoost est de {round(pipe_gscv_xg.best_score_ *100,2)} %\")\n",
    "print(f\"Les meilleurs hyperparamètres sont :\")\n",
    "print(pipe_gscv_xg.best_params_)"
   ]
  },
  {
   "cell_type": "code",
   "execution_count": 27,
   "id": "afd337a0-250e-4dce-b1e7-c4bc17a8439a",
   "metadata": {
    "tags": []
   },
   "outputs": [],
   "source": [
    "f1_score_ap_gscv.append(round(pipe_gscv_xg.best_score_*100,2))"
   ]
  },
  {
   "cell_type": "code",
   "execution_count": 28,
   "id": "a86b1287-b539-417a-a8d1-cfdf3acdcfc6",
   "metadata": {},
   "outputs": [
    {
     "data": {
      "text/plain": [
       "[94.94, 94.52, 94.85]"
      ]
     },
     "execution_count": 28,
     "metadata": {},
     "output_type": "execute_result"
    }
   ],
   "source": [
    "f1_score_ap_gscv"
   ]
  },
  {
   "cell_type": "markdown",
   "id": "29b0dabb-b23b-489b-ac97-28e5dced21ef",
   "metadata": {},
   "source": [
    "Le modèle avec le meilleur résultat, après optimisation des hyperparamètres, est la régression logistique avec un f1 score de 94.94% "
   ]
  },
  {
   "cell_type": "code",
   "execution_count": 29,
   "id": "19da5f74-fdab-4be0-9eac-9ccec6525832",
   "metadata": {},
   "outputs": [],
   "source": [
    "f1_score_ap_gscv = pd.DataFrame(f1_score_ap_gscv)\n",
    "f1_score_ap_gscv.rename(index={0:\"Logistic Regression\",\n",
    "                               1:\"Gradient boosting\",\n",
    "                               2:\"XGBoost\"},\n",
    "                       columns={0:\"f1_score_ap_gscv\"}, inplace = True)"
   ]
  },
  {
   "cell_type": "markdown",
   "id": "99e6417e-593d-4837-bbf0-ff030d4b110b",
   "metadata": {},
   "source": [
    "### <span style=\"color:#011C5D\">3.5. Résultats de l'optimisation des hyperparamètres</span>"
   ]
  },
  {
   "cell_type": "markdown",
   "id": "8db3ebcc-6518-4fa7-93f3-2f006d1ee91f",
   "metadata": {},
   "source": [
    "#### <span style=\"color:#011C5D\">Regression logistique</span>"
   ]
  },
  {
   "cell_type": "code",
   "execution_count": 30,
   "id": "fb6b06a1-4e25-4b83-baad-43744ee6e8e4",
   "metadata": {},
   "outputs": [
    {
     "data": {
      "text/html": [
       "<div>\n",
       "<style scoped>\n",
       "    .dataframe tbody tr th:only-of-type {\n",
       "        vertical-align: middle;\n",
       "    }\n",
       "\n",
       "    .dataframe tbody tr th {\n",
       "        vertical-align: top;\n",
       "    }\n",
       "\n",
       "    .dataframe thead th {\n",
       "        text-align: right;\n",
       "    }\n",
       "</style>\n",
       "<table border=\"1\" class=\"dataframe\">\n",
       "  <thead>\n",
       "    <tr style=\"text-align: right;\">\n",
       "      <th></th>\n",
       "      <th>mean_fit_time</th>\n",
       "      <th>std_fit_time</th>\n",
       "      <th>mean_score_time</th>\n",
       "      <th>std_score_time</th>\n",
       "      <th>param_classifier__C</th>\n",
       "      <th>param_classifier__max_iter</th>\n",
       "      <th>param_classifier__penalty</th>\n",
       "      <th>param_classifier__solver</th>\n",
       "      <th>params</th>\n",
       "      <th>split0_test_score</th>\n",
       "      <th>split1_test_score</th>\n",
       "      <th>split2_test_score</th>\n",
       "      <th>split3_test_score</th>\n",
       "      <th>split4_test_score</th>\n",
       "      <th>mean_test_score</th>\n",
       "      <th>std_test_score</th>\n",
       "      <th>rank_test_score</th>\n",
       "    </tr>\n",
       "  </thead>\n",
       "  <tbody>\n",
       "    <tr>\n",
       "      <th>89</th>\n",
       "      <td>0.638886</td>\n",
       "      <td>0.041906</td>\n",
       "      <td>0.016806</td>\n",
       "      <td>0.007783</td>\n",
       "      <td>1</td>\n",
       "      <td>500</td>\n",
       "      <td>l1</td>\n",
       "      <td>saga</td>\n",
       "      <td>{'classifier__C': 1, 'classifier__max_iter': 5...</td>\n",
       "      <td>0.958838</td>\n",
       "      <td>0.948255</td>\n",
       "      <td>0.938679</td>\n",
       "      <td>0.947494</td>\n",
       "      <td>0.953516</td>\n",
       "      <td>0.949356</td>\n",
       "      <td>0.006721</td>\n",
       "      <td>1</td>\n",
       "    </tr>\n",
       "    <tr>\n",
       "      <th>93</th>\n",
       "      <td>1.058575</td>\n",
       "      <td>0.023349</td>\n",
       "      <td>0.012604</td>\n",
       "      <td>0.004455</td>\n",
       "      <td>1</td>\n",
       "      <td>1000</td>\n",
       "      <td>l1</td>\n",
       "      <td>saga</td>\n",
       "      <td>{'classifier__C': 1, 'classifier__max_iter': 1...</td>\n",
       "      <td>0.957780</td>\n",
       "      <td>0.947115</td>\n",
       "      <td>0.938679</td>\n",
       "      <td>0.949881</td>\n",
       "      <td>0.951249</td>\n",
       "      <td>0.948941</td>\n",
       "      <td>0.006213</td>\n",
       "      <td>2</td>\n",
       "    </tr>\n",
       "    <tr>\n",
       "      <th>85</th>\n",
       "      <td>0.397426</td>\n",
       "      <td>0.057027</td>\n",
       "      <td>0.009756</td>\n",
       "      <td>0.005768</td>\n",
       "      <td>1</td>\n",
       "      <td>200</td>\n",
       "      <td>l1</td>\n",
       "      <td>saga</td>\n",
       "      <td>{'classifier__C': 1, 'classifier__max_iter': 2...</td>\n",
       "      <td>0.960000</td>\n",
       "      <td>0.948255</td>\n",
       "      <td>0.936019</td>\n",
       "      <td>0.947368</td>\n",
       "      <td>0.949881</td>\n",
       "      <td>0.948305</td>\n",
       "      <td>0.007630</td>\n",
       "      <td>3</td>\n",
       "    </tr>\n",
       "    <tr>\n",
       "      <th>95</th>\n",
       "      <td>0.821582</td>\n",
       "      <td>0.022121</td>\n",
       "      <td>0.010403</td>\n",
       "      <td>0.002332</td>\n",
       "      <td>1</td>\n",
       "      <td>1000</td>\n",
       "      <td>l2</td>\n",
       "      <td>saga</td>\n",
       "      <td>{'classifier__C': 1, 'classifier__max_iter': 1...</td>\n",
       "      <td>0.958838</td>\n",
       "      <td>0.950662</td>\n",
       "      <td>0.936471</td>\n",
       "      <td>0.946492</td>\n",
       "      <td>0.948749</td>\n",
       "      <td>0.948242</td>\n",
       "      <td>0.007211</td>\n",
       "      <td>4</td>\n",
       "    </tr>\n",
       "    <tr>\n",
       "      <th>117</th>\n",
       "      <td>4.961518</td>\n",
       "      <td>0.057079</td>\n",
       "      <td>0.009403</td>\n",
       "      <td>0.001020</td>\n",
       "      <td>10</td>\n",
       "      <td>1000</td>\n",
       "      <td>l1</td>\n",
       "      <td>saga</td>\n",
       "      <td>{'classifier__C': 10, 'classifier__max_iter': ...</td>\n",
       "      <td>0.953883</td>\n",
       "      <td>0.948130</td>\n",
       "      <td>0.941038</td>\n",
       "      <td>0.948870</td>\n",
       "      <td>0.948749</td>\n",
       "      <td>0.948134</td>\n",
       "      <td>0.004107</td>\n",
       "      <td>5</td>\n",
       "    </tr>\n",
       "  </tbody>\n",
       "</table>\n",
       "</div>"
      ],
      "text/plain": [
       "     mean_fit_time  std_fit_time  mean_score_time  std_score_time  \\\n",
       "89        0.638886      0.041906         0.016806        0.007783   \n",
       "93        1.058575      0.023349         0.012604        0.004455   \n",
       "85        0.397426      0.057027         0.009756        0.005768   \n",
       "95        0.821582      0.022121         0.010403        0.002332   \n",
       "117       4.961518      0.057079         0.009403        0.001020   \n",
       "\n",
       "    param_classifier__C param_classifier__max_iter param_classifier__penalty  \\\n",
       "89                    1                        500                        l1   \n",
       "93                    1                       1000                        l1   \n",
       "85                    1                        200                        l1   \n",
       "95                    1                       1000                        l2   \n",
       "117                  10                       1000                        l1   \n",
       "\n",
       "    param_classifier__solver  \\\n",
       "89                      saga   \n",
       "93                      saga   \n",
       "85                      saga   \n",
       "95                      saga   \n",
       "117                     saga   \n",
       "\n",
       "                                                params  split0_test_score  \\\n",
       "89   {'classifier__C': 1, 'classifier__max_iter': 5...           0.958838   \n",
       "93   {'classifier__C': 1, 'classifier__max_iter': 1...           0.957780   \n",
       "85   {'classifier__C': 1, 'classifier__max_iter': 2...           0.960000   \n",
       "95   {'classifier__C': 1, 'classifier__max_iter': 1...           0.958838   \n",
       "117  {'classifier__C': 10, 'classifier__max_iter': ...           0.953883   \n",
       "\n",
       "     split1_test_score  split2_test_score  split3_test_score  \\\n",
       "89            0.948255           0.938679           0.947494   \n",
       "93            0.947115           0.938679           0.949881   \n",
       "85            0.948255           0.936019           0.947368   \n",
       "95            0.950662           0.936471           0.946492   \n",
       "117           0.948130           0.941038           0.948870   \n",
       "\n",
       "     split4_test_score  mean_test_score  std_test_score  rank_test_score  \n",
       "89            0.953516         0.949356        0.006721                1  \n",
       "93            0.951249         0.948941        0.006213                2  \n",
       "85            0.949881         0.948305        0.007630                3  \n",
       "95            0.948749         0.948242        0.007211                4  \n",
       "117           0.948749         0.948134        0.004107                5  "
      ]
     },
     "execution_count": 30,
     "metadata": {},
     "output_type": "execute_result"
    }
   ],
   "source": [
    "cv_results_lr = pd.DataFrame(pipe_gscv_lr.cv_results_).sort_values(\"mean_test_score\", ascending=False)\n",
    "cv_results_lr.head()"
   ]
  },
  {
   "cell_type": "markdown",
   "id": "20e6abec-25b5-4bf2-8885-7cd88131fa0d",
   "metadata": {},
   "source": [
    "#### <span style=\"color:#011C5D\">Gradient boosting</span>"
   ]
  },
  {
   "cell_type": "code",
   "execution_count": 31,
   "id": "a54652d3-d761-4254-ae42-71bb1e520bc4",
   "metadata": {},
   "outputs": [
    {
     "data": {
      "text/html": [
       "<div>\n",
       "<style scoped>\n",
       "    .dataframe tbody tr th:only-of-type {\n",
       "        vertical-align: middle;\n",
       "    }\n",
       "\n",
       "    .dataframe tbody tr th {\n",
       "        vertical-align: top;\n",
       "    }\n",
       "\n",
       "    .dataframe thead th {\n",
       "        text-align: right;\n",
       "    }\n",
       "</style>\n",
       "<table border=\"1\" class=\"dataframe\">\n",
       "  <thead>\n",
       "    <tr style=\"text-align: right;\">\n",
       "      <th></th>\n",
       "      <th>mean_fit_time</th>\n",
       "      <th>std_fit_time</th>\n",
       "      <th>mean_score_time</th>\n",
       "      <th>std_score_time</th>\n",
       "      <th>param_classifier__learning_rate</th>\n",
       "      <th>param_classifier__max_leaf_nodes</th>\n",
       "      <th>param_classifier__n_estimators</th>\n",
       "      <th>params</th>\n",
       "      <th>split0_test_score</th>\n",
       "      <th>split1_test_score</th>\n",
       "      <th>split2_test_score</th>\n",
       "      <th>split3_test_score</th>\n",
       "      <th>split4_test_score</th>\n",
       "      <th>mean_test_score</th>\n",
       "      <th>std_test_score</th>\n",
       "      <th>rank_test_score</th>\n",
       "    </tr>\n",
       "  </thead>\n",
       "  <tbody>\n",
       "    <tr>\n",
       "      <th>22</th>\n",
       "      <td>2.060464</td>\n",
       "      <td>0.016004</td>\n",
       "      <td>0.011402</td>\n",
       "      <td>0.001959</td>\n",
       "      <td>0.1</td>\n",
       "      <td>10</td>\n",
       "      <td>200</td>\n",
       "      <td>{'classifier__learning_rate': 0.1, 'classifier...</td>\n",
       "      <td>0.958383</td>\n",
       "      <td>0.942446</td>\n",
       "      <td>0.938389</td>\n",
       "      <td>0.941038</td>\n",
       "      <td>0.945626</td>\n",
       "      <td>0.945176</td>\n",
       "      <td>0.007004</td>\n",
       "      <td>1</td>\n",
       "    </tr>\n",
       "    <tr>\n",
       "      <th>26</th>\n",
       "      <td>2.058062</td>\n",
       "      <td>0.012708</td>\n",
       "      <td>0.010602</td>\n",
       "      <td>0.001357</td>\n",
       "      <td>0.1</td>\n",
       "      <td>50</td>\n",
       "      <td>200</td>\n",
       "      <td>{'classifier__learning_rate': 0.1, 'classifier...</td>\n",
       "      <td>0.958383</td>\n",
       "      <td>0.942446</td>\n",
       "      <td>0.938389</td>\n",
       "      <td>0.941038</td>\n",
       "      <td>0.945626</td>\n",
       "      <td>0.945176</td>\n",
       "      <td>0.007004</td>\n",
       "      <td>1</td>\n",
       "    </tr>\n",
       "    <tr>\n",
       "      <th>30</th>\n",
       "      <td>2.067666</td>\n",
       "      <td>0.039207</td>\n",
       "      <td>0.011604</td>\n",
       "      <td>0.001744</td>\n",
       "      <td>0.1</td>\n",
       "      <td>100</td>\n",
       "      <td>200</td>\n",
       "      <td>{'classifier__learning_rate': 0.1, 'classifier...</td>\n",
       "      <td>0.958383</td>\n",
       "      <td>0.942446</td>\n",
       "      <td>0.938389</td>\n",
       "      <td>0.941038</td>\n",
       "      <td>0.945626</td>\n",
       "      <td>0.945176</td>\n",
       "      <td>0.007004</td>\n",
       "      <td>1</td>\n",
       "    </tr>\n",
       "    <tr>\n",
       "      <th>31</th>\n",
       "      <td>5.359106</td>\n",
       "      <td>0.085207</td>\n",
       "      <td>0.021362</td>\n",
       "      <td>0.007110</td>\n",
       "      <td>0.1</td>\n",
       "      <td>100</td>\n",
       "      <td>500</td>\n",
       "      <td>{'classifier__learning_rate': 0.1, 'classifier...</td>\n",
       "      <td>0.948379</td>\n",
       "      <td>0.945978</td>\n",
       "      <td>0.939645</td>\n",
       "      <td>0.945626</td>\n",
       "      <td>0.944247</td>\n",
       "      <td>0.944775</td>\n",
       "      <td>0.002890</td>\n",
       "      <td>4</td>\n",
       "    </tr>\n",
       "    <tr>\n",
       "      <th>23</th>\n",
       "      <td>5.348910</td>\n",
       "      <td>0.079066</td>\n",
       "      <td>0.021405</td>\n",
       "      <td>0.012535</td>\n",
       "      <td>0.1</td>\n",
       "      <td>10</td>\n",
       "      <td>500</td>\n",
       "      <td>{'classifier__learning_rate': 0.1, 'classifier...</td>\n",
       "      <td>0.948379</td>\n",
       "      <td>0.945978</td>\n",
       "      <td>0.939645</td>\n",
       "      <td>0.945626</td>\n",
       "      <td>0.944247</td>\n",
       "      <td>0.944775</td>\n",
       "      <td>0.002890</td>\n",
       "      <td>4</td>\n",
       "    </tr>\n",
       "  </tbody>\n",
       "</table>\n",
       "</div>"
      ],
      "text/plain": [
       "    mean_fit_time  std_fit_time  mean_score_time  std_score_time  \\\n",
       "22       2.060464      0.016004         0.011402        0.001959   \n",
       "26       2.058062      0.012708         0.010602        0.001357   \n",
       "30       2.067666      0.039207         0.011604        0.001744   \n",
       "31       5.359106      0.085207         0.021362        0.007110   \n",
       "23       5.348910      0.079066         0.021405        0.012535   \n",
       "\n",
       "   param_classifier__learning_rate param_classifier__max_leaf_nodes  \\\n",
       "22                             0.1                               10   \n",
       "26                             0.1                               50   \n",
       "30                             0.1                              100   \n",
       "31                             0.1                              100   \n",
       "23                             0.1                               10   \n",
       "\n",
       "   param_classifier__n_estimators  \\\n",
       "22                            200   \n",
       "26                            200   \n",
       "30                            200   \n",
       "31                            500   \n",
       "23                            500   \n",
       "\n",
       "                                               params  split0_test_score  \\\n",
       "22  {'classifier__learning_rate': 0.1, 'classifier...           0.958383   \n",
       "26  {'classifier__learning_rate': 0.1, 'classifier...           0.958383   \n",
       "30  {'classifier__learning_rate': 0.1, 'classifier...           0.958383   \n",
       "31  {'classifier__learning_rate': 0.1, 'classifier...           0.948379   \n",
       "23  {'classifier__learning_rate': 0.1, 'classifier...           0.948379   \n",
       "\n",
       "    split1_test_score  split2_test_score  split3_test_score  \\\n",
       "22           0.942446           0.938389           0.941038   \n",
       "26           0.942446           0.938389           0.941038   \n",
       "30           0.942446           0.938389           0.941038   \n",
       "31           0.945978           0.939645           0.945626   \n",
       "23           0.945978           0.939645           0.945626   \n",
       "\n",
       "    split4_test_score  mean_test_score  std_test_score  rank_test_score  \n",
       "22           0.945626         0.945176        0.007004                1  \n",
       "26           0.945626         0.945176        0.007004                1  \n",
       "30           0.945626         0.945176        0.007004                1  \n",
       "31           0.944247         0.944775        0.002890                4  \n",
       "23           0.944247         0.944775        0.002890                4  "
      ]
     },
     "execution_count": 31,
     "metadata": {},
     "output_type": "execute_result"
    }
   ],
   "source": [
    "cv_results_gb = pd.DataFrame(pipe_gscv_gb.cv_results_).sort_values(\"mean_test_score\", ascending=False)\n",
    "cv_results_gb.head()"
   ]
  },
  {
   "cell_type": "markdown",
   "id": "81bb77d9-a32b-4578-af54-32461238dfdc",
   "metadata": {},
   "source": [
    "#### <span style=\"color:#011C5D\">XGBoost</span>"
   ]
  },
  {
   "cell_type": "code",
   "execution_count": 32,
   "id": "d437503c-3584-4574-bfe3-a013b38104da",
   "metadata": {},
   "outputs": [
    {
     "data": {
      "text/html": [
       "<div>\n",
       "<style scoped>\n",
       "    .dataframe tbody tr th:only-of-type {\n",
       "        vertical-align: middle;\n",
       "    }\n",
       "\n",
       "    .dataframe tbody tr th {\n",
       "        vertical-align: top;\n",
       "    }\n",
       "\n",
       "    .dataframe thead th {\n",
       "        text-align: right;\n",
       "    }\n",
       "</style>\n",
       "<table border=\"1\" class=\"dataframe\">\n",
       "  <thead>\n",
       "    <tr style=\"text-align: right;\">\n",
       "      <th></th>\n",
       "      <th>mean_fit_time</th>\n",
       "      <th>std_fit_time</th>\n",
       "      <th>mean_score_time</th>\n",
       "      <th>std_score_time</th>\n",
       "      <th>param_classifier__learning_rate</th>\n",
       "      <th>param_classifier__max_depth</th>\n",
       "      <th>param_classifier__n_estimators</th>\n",
       "      <th>params</th>\n",
       "      <th>split0_test_score</th>\n",
       "      <th>split1_test_score</th>\n",
       "      <th>split2_test_score</th>\n",
       "      <th>split3_test_score</th>\n",
       "      <th>split4_test_score</th>\n",
       "      <th>mean_test_score</th>\n",
       "      <th>std_test_score</th>\n",
       "      <th>rank_test_score</th>\n",
       "    </tr>\n",
       "  </thead>\n",
       "  <tbody>\n",
       "    <tr>\n",
       "      <th>27</th>\n",
       "      <td>1.793218</td>\n",
       "      <td>0.014189</td>\n",
       "      <td>0.012668</td>\n",
       "      <td>0.007379</td>\n",
       "      <td>0.1</td>\n",
       "      <td>8</td>\n",
       "      <td>180</td>\n",
       "      <td>{'classifier__learning_rate': 0.1, 'classifier...</td>\n",
       "      <td>0.952267</td>\n",
       "      <td>0.948503</td>\n",
       "      <td>0.947368</td>\n",
       "      <td>0.940476</td>\n",
       "      <td>0.953846</td>\n",
       "      <td>0.948492</td>\n",
       "      <td>0.004657</td>\n",
       "      <td>1</td>\n",
       "    </tr>\n",
       "    <tr>\n",
       "      <th>94</th>\n",
       "      <td>1.584468</td>\n",
       "      <td>0.016038</td>\n",
       "      <td>0.015630</td>\n",
       "      <td>0.000003</td>\n",
       "      <td>0.05</td>\n",
       "      <td>9</td>\n",
       "      <td>140</td>\n",
       "      <td>{'classifier__learning_rate': 0.05, 'classifie...</td>\n",
       "      <td>0.951132</td>\n",
       "      <td>0.944844</td>\n",
       "      <td>0.942721</td>\n",
       "      <td>0.945107</td>\n",
       "      <td>0.958482</td>\n",
       "      <td>0.948457</td>\n",
       "      <td>0.005742</td>\n",
       "      <td>2</td>\n",
       "    </tr>\n",
       "    <tr>\n",
       "      <th>95</th>\n",
       "      <td>2.307578</td>\n",
       "      <td>0.039060</td>\n",
       "      <td>0.015707</td>\n",
       "      <td>0.000156</td>\n",
       "      <td>0.05</td>\n",
       "      <td>9</td>\n",
       "      <td>180</td>\n",
       "      <td>{'classifier__learning_rate': 0.05, 'classifie...</td>\n",
       "      <td>0.951132</td>\n",
       "      <td>0.944844</td>\n",
       "      <td>0.942446</td>\n",
       "      <td>0.945107</td>\n",
       "      <td>0.958482</td>\n",
       "      <td>0.948402</td>\n",
       "      <td>0.005797</td>\n",
       "      <td>3</td>\n",
       "    </tr>\n",
       "    <tr>\n",
       "      <th>31</th>\n",
       "      <td>1.707386</td>\n",
       "      <td>0.010831</td>\n",
       "      <td>0.014583</td>\n",
       "      <td>0.002291</td>\n",
       "      <td>0.1</td>\n",
       "      <td>9</td>\n",
       "      <td>180</td>\n",
       "      <td>{'classifier__learning_rate': 0.1, 'classifier...</td>\n",
       "      <td>0.957041</td>\n",
       "      <td>0.943577</td>\n",
       "      <td>0.947619</td>\n",
       "      <td>0.941458</td>\n",
       "      <td>0.950237</td>\n",
       "      <td>0.947986</td>\n",
       "      <td>0.005463</td>\n",
       "      <td>4</td>\n",
       "    </tr>\n",
       "    <tr>\n",
       "      <th>30</th>\n",
       "      <td>1.417929</td>\n",
       "      <td>0.012325</td>\n",
       "      <td>0.016728</td>\n",
       "      <td>0.003817</td>\n",
       "      <td>0.1</td>\n",
       "      <td>9</td>\n",
       "      <td>140</td>\n",
       "      <td>{'classifier__learning_rate': 0.1, 'classifier...</td>\n",
       "      <td>0.958284</td>\n",
       "      <td>0.942446</td>\n",
       "      <td>0.942857</td>\n",
       "      <td>0.942721</td>\n",
       "      <td>0.950237</td>\n",
       "      <td>0.947309</td>\n",
       "      <td>0.006222</td>\n",
       "      <td>5</td>\n",
       "    </tr>\n",
       "  </tbody>\n",
       "</table>\n",
       "</div>"
      ],
      "text/plain": [
       "    mean_fit_time  std_fit_time  mean_score_time  std_score_time  \\\n",
       "27       1.793218      0.014189         0.012668        0.007379   \n",
       "94       1.584468      0.016038         0.015630        0.000003   \n",
       "95       2.307578      0.039060         0.015707        0.000156   \n",
       "31       1.707386      0.010831         0.014583        0.002291   \n",
       "30       1.417929      0.012325         0.016728        0.003817   \n",
       "\n",
       "   param_classifier__learning_rate param_classifier__max_depth  \\\n",
       "27                             0.1                           8   \n",
       "94                            0.05                           9   \n",
       "95                            0.05                           9   \n",
       "31                             0.1                           9   \n",
       "30                             0.1                           9   \n",
       "\n",
       "   param_classifier__n_estimators  \\\n",
       "27                            180   \n",
       "94                            140   \n",
       "95                            180   \n",
       "31                            180   \n",
       "30                            140   \n",
       "\n",
       "                                               params  split0_test_score  \\\n",
       "27  {'classifier__learning_rate': 0.1, 'classifier...           0.952267   \n",
       "94  {'classifier__learning_rate': 0.05, 'classifie...           0.951132   \n",
       "95  {'classifier__learning_rate': 0.05, 'classifie...           0.951132   \n",
       "31  {'classifier__learning_rate': 0.1, 'classifier...           0.957041   \n",
       "30  {'classifier__learning_rate': 0.1, 'classifier...           0.958284   \n",
       "\n",
       "    split1_test_score  split2_test_score  split3_test_score  \\\n",
       "27           0.948503           0.947368           0.940476   \n",
       "94           0.944844           0.942721           0.945107   \n",
       "95           0.944844           0.942446           0.945107   \n",
       "31           0.943577           0.947619           0.941458   \n",
       "30           0.942446           0.942857           0.942721   \n",
       "\n",
       "    split4_test_score  mean_test_score  std_test_score  rank_test_score  \n",
       "27           0.953846         0.948492        0.004657                1  \n",
       "94           0.958482         0.948457        0.005742                2  \n",
       "95           0.958482         0.948402        0.005797                3  \n",
       "31           0.950237         0.947986        0.005463                4  \n",
       "30           0.950237         0.947309        0.006222                5  "
      ]
     },
     "execution_count": 32,
     "metadata": {},
     "output_type": "execute_result"
    }
   ],
   "source": [
    "cv_results_xg = pd.DataFrame(pipe_gscv_xg.cv_results_).sort_values(\"mean_test_score\", ascending=False)\n",
    "cv_results_xg.head()"
   ]
  },
  {
   "cell_type": "markdown",
   "id": "d9edeb14-7c5c-4a2d-a5d4-1389655e424e",
   "metadata": {},
   "source": [
    "### <span style=\"color:#011C5D\">3.6. Performance de généralisation</span>"
   ]
  },
  {
   "cell_type": "markdown",
   "id": "1e7451c3-0235-4955-9106-a69eb800ba6b",
   "metadata": {
    "tags": []
   },
   "source": [
    "#### <span style=\"color:#011C5D\">Regression logistique</span>"
   ]
  },
  {
   "cell_type": "code",
   "execution_count": 33,
   "id": "d96ec0a0-a71d-45d5-8113-f7743e1e6ad9",
   "metadata": {},
   "outputs": [],
   "source": [
    "f1_score_generalisation = []"
   ]
  },
  {
   "cell_type": "code",
   "execution_count": 34,
   "id": "41e4106c-7497-4dc2-9610-1ee0d30f673b",
   "metadata": {},
   "outputs": [],
   "source": [
    "param_grid_lr_gene = {\n",
    "    'classifier__C':[1, 10],\n",
    "    'classifier__penalty':['l1', 'l2'],    \n",
    "    'classifier__max_iter':[500, 1000],\n",
    "    'classifier__solver':['lbfgs', 'saga'],\n",
    "}\n",
    "\n",
    "pipe_gscv_lr_gene = GridSearchCV(pipe_lr, param_grid=param_grid_lr_gene, scoring=\"f1\", \n",
    "                                 cv=5, n_jobs=5, verbose=1)"
   ]
  },
  {
   "cell_type": "code",
   "execution_count": 35,
   "id": "a5ccb349-a96e-4900-9785-ea0c11430898",
   "metadata": {},
   "outputs": [
    {
     "name": "stdout",
     "output_type": "stream",
     "text": [
      "Le score F1 de généralisation, après optimisation des hyperparamètres, pour la regression logistique est de 94.84 %\n"
     ]
    }
   ],
   "source": [
    "cv_results_lr = cross_validate(\n",
    "    pipe_gscv_lr_gene, X_train, y_train, cv=5, n_jobs=5, return_estimator=True\n",
    ")\n",
    "mean_f1_lr = cv_results_lr[\"test_score\"].mean()\n",
    "\n",
    "print(f\"Le score F1 de généralisation, après optimisation des hyperparamètres, pour la regression logistique est de {round(mean_f1_lr*100,2)} %\")"
   ]
  },
  {
   "cell_type": "code",
   "execution_count": 36,
   "id": "b1559eec-6b46-429c-98cb-e2045487bb67",
   "metadata": {},
   "outputs": [],
   "source": [
    "f1_score_generalisation.append(round(mean_f1_lr*100,2))"
   ]
  },
  {
   "cell_type": "markdown",
   "id": "ef230d00-b84c-4ff8-a9c2-a7b87b001f13",
   "metadata": {},
   "source": [
    "#### <span style=\"color:#011C5D\">Gradient boosting</span>"
   ]
  },
  {
   "cell_type": "code",
   "execution_count": 37,
   "id": "4713ec5a-6a77-4aa4-abe6-44702cc50fec",
   "metadata": {},
   "outputs": [],
   "source": [
    "param_grid_gb_gene = {\n",
    "    'classifier__learning_rate': [0.1, 1],\n",
    "    \"classifier__n_estimators\": [200, 500],\n",
    "    \"classifier__max_leaf_nodes\": [10, 50]\n",
    "}\n",
    "\n",
    "pipe_gscv_gb_gene = GridSearchCV(pipe_gb, param_grid=param_grid_gb_gene, scoring=\"f1\", \n",
    "                                 cv=5, n_jobs=5, verbose=1)"
   ]
  },
  {
   "cell_type": "code",
   "execution_count": 38,
   "id": "317ec8f3-7d49-4521-a401-8f61e2f5e62d",
   "metadata": {},
   "outputs": [
    {
     "name": "stdout",
     "output_type": "stream",
     "text": [
      "Le score F1 de généralisation, après optimisation des hyperparamètres, pour le gradient boosting est de 94.29%\n"
     ]
    }
   ],
   "source": [
    "cv_results_gb = cross_validate(\n",
    "    pipe_gscv_gb_gene, X_train, y_train, cv=5, n_jobs=5, return_estimator=True\n",
    ")\n",
    "mean_f1_gb = cv_results_gb[\"test_score\"].mean()\n",
    "\n",
    "print(f\"Le score F1 de généralisation, après optimisation des hyperparamètres, pour le gradient boosting est de {round(mean_f1_gb*100,2)}%\")"
   ]
  },
  {
   "cell_type": "code",
   "execution_count": 39,
   "id": "e55c3f23-7e92-442d-a276-9d3bdebd4041",
   "metadata": {},
   "outputs": [],
   "source": [
    "f1_score_generalisation.append(round(mean_f1_gb*100,2))"
   ]
  },
  {
   "cell_type": "markdown",
   "id": "c8f8ca8a-d9b1-44b1-9bf2-54ecc93ceff9",
   "metadata": {},
   "source": [
    "#### <span style=\"color:#011C5D\">XGBoost</span>"
   ]
  },
  {
   "cell_type": "code",
   "execution_count": 40,
   "id": "af223e23-bf01-4714-b2d3-feeb77628525",
   "metadata": {},
   "outputs": [],
   "source": [
    "param_grid_xg_gene = {\n",
    "    'classifier__max_depth': range (2, 10, 1),\n",
    "    'classifier__n_estimators': range(60, 220, 40),\n",
    "    'classifier__learning_rate': [0.1, 0.05]\n",
    "}\n",
    "\n",
    "pipe_gscv_xg_gene = GridSearchCV(pipe_xg, param_grid=param_grid_xg_gene, scoring=\"f1\", \n",
    "                                 cv=5, n_jobs=5, verbose=1)"
   ]
  },
  {
   "cell_type": "code",
   "execution_count": 41,
   "id": "0bc67a06-8f34-4e8f-8eb7-dd10ef92334c",
   "metadata": {},
   "outputs": [
    {
     "name": "stdout",
     "output_type": "stream",
     "text": [
      "Le score F1 de généralisation, après optimisation des hyperparamètres, pour le XGBoost est de 94.58%\n"
     ]
    }
   ],
   "source": [
    "cv_results_xg = cross_validate(\n",
    "    pipe_gscv_xg_gene, X_train, y_train, cv=5, n_jobs=5, return_estimator=True\n",
    ")\n",
    "mean_f1_xg = cv_results_xg[\"test_score\"].mean()\n",
    "\n",
    "print(f\"Le score F1 de généralisation, après optimisation des hyperparamètres, pour le XGBoost est de {round(mean_f1_xg*100,2)}%\")"
   ]
  },
  {
   "cell_type": "code",
   "execution_count": 42,
   "id": "2c2a7de2-e965-4c1f-b363-f00945649489",
   "metadata": {},
   "outputs": [],
   "source": [
    "f1_score_generalisation.append(round(mean_f1_xg*100,2))"
   ]
  },
  {
   "cell_type": "code",
   "execution_count": 43,
   "id": "797875a6-417c-4cad-adef-3e608bc9e169",
   "metadata": {},
   "outputs": [],
   "source": [
    "f1_score_generalisation = pd.DataFrame(f1_score_generalisation)\n",
    "f1_score_generalisation.rename(index={0:\"Logistic Regression\",\n",
    "                                      1:\"Gradient boosting\",\n",
    "                                      2:\"XGBoost\"},\n",
    "                               columns={0:\"f1_score_generalisation\"}, inplace = True)"
   ]
  },
  {
   "cell_type": "code",
   "execution_count": 44,
   "id": "6aaf0d8a-377c-4481-875b-41b1e9411f6a",
   "metadata": {},
   "outputs": [],
   "source": [
    "# Comparaison des résultats des 3 étapes \n",
    "comparaison_etapes = pd.concat([f1_score_avt_gscv_best,f1_score_ap_gscv,f1_score_generalisation],axis=1)"
   ]
  },
  {
   "cell_type": "code",
   "execution_count": 45,
   "id": "4a5593f4-e5df-4bd9-8504-8bf3e5409d20",
   "metadata": {},
   "outputs": [
    {
     "data": {
      "text/html": [
       "<div>\n",
       "<style scoped>\n",
       "    .dataframe tbody tr th:only-of-type {\n",
       "        vertical-align: middle;\n",
       "    }\n",
       "\n",
       "    .dataframe tbody tr th {\n",
       "        vertical-align: top;\n",
       "    }\n",
       "\n",
       "    .dataframe thead th {\n",
       "        text-align: right;\n",
       "    }\n",
       "</style>\n",
       "<table border=\"1\" class=\"dataframe\">\n",
       "  <thead>\n",
       "    <tr style=\"text-align: right;\">\n",
       "      <th></th>\n",
       "      <th>f1_score_avt_grid</th>\n",
       "      <th>f1_score_ap_gscv</th>\n",
       "      <th>f1_score_generalisation</th>\n",
       "    </tr>\n",
       "  </thead>\n",
       "  <tbody>\n",
       "    <tr>\n",
       "      <th>Logistic Regression</th>\n",
       "      <td>94.78</td>\n",
       "      <td>94.94</td>\n",
       "      <td>94.84</td>\n",
       "    </tr>\n",
       "    <tr>\n",
       "      <th>Gradient boosting</th>\n",
       "      <td>94.49</td>\n",
       "      <td>94.52</td>\n",
       "      <td>94.29</td>\n",
       "    </tr>\n",
       "    <tr>\n",
       "      <th>XGBoost</th>\n",
       "      <td>94.75</td>\n",
       "      <td>94.85</td>\n",
       "      <td>94.58</td>\n",
       "    </tr>\n",
       "  </tbody>\n",
       "</table>\n",
       "</div>"
      ],
      "text/plain": [
       "                     f1_score_avt_grid  f1_score_ap_gscv  \\\n",
       "Logistic Regression              94.78             94.94   \n",
       "Gradient boosting                94.49             94.52   \n",
       "XGBoost                          94.75             94.85   \n",
       "\n",
       "                     f1_score_generalisation  \n",
       "Logistic Regression                    94.84  \n",
       "Gradient boosting                      94.29  \n",
       "XGBoost                                94.58  "
      ]
     },
     "execution_count": 45,
     "metadata": {},
     "output_type": "execute_result"
    }
   ],
   "source": [
    "comparaison_etapes"
   ]
  },
  {
   "cell_type": "code",
   "execution_count": 46,
   "id": "f180a34b-b444-4739-aa68-c3383474e7a7",
   "metadata": {},
   "outputs": [],
   "source": [
    "comparaison_etapes_T = comparaison_etapes.transpose()"
   ]
  },
  {
   "cell_type": "code",
   "execution_count": 47,
   "id": "7353fa45-a597-4416-9d9b-f77e51ab951b",
   "metadata": {},
   "outputs": [
    {
     "data": {
      "text/plain": [
       "<AxesSubplot:title={'center':'Comparaison étapes par modèle'}>"
      ]
     },
     "execution_count": 47,
     "metadata": {},
     "output_type": "execute_result"
    },
    {
     "data": {
      "image/png": "[encoded data removed]",
      "text/plain": [
       "<Figure size 640x480 with 1 Axes>"
      ]
     },
     "metadata": {},
     "output_type": "display_data"
    }
   ],
   "source": [
    "# Graphique représentant les résultats des 3 étapes \n",
    "comparaison_etapes_T.plot(title=\"Comparaison étapes par modèle\")"
   ]
  },
  {
   "cell_type": "markdown",
   "id": "040efe0b-7201-40e3-843e-27ffcab4c473",
   "metadata": {},
   "source": [
    "La régression logistique reste le meilleur modèle pour chaque étape. Nous allons donc analyser les variables de ce modèle."
   ]
  },
  {
   "cell_type": "markdown",
   "id": "0bae3fd0-596c-4aa6-90aa-8a41162f6fe8",
   "metadata": {
    "tags": []
   },
   "source": [
    "### <span style=\"color:#011C5D\">3.7. Prediction et interprétation Regression logistique optimisée</span>"
   ]
  },
  {
   "cell_type": "markdown",
   "id": "2d2ebabb-8ead-468f-9178-1aa56ec83482",
   "metadata": {},
   "source": [
    "#### <span style=\"color:#011C5D\">Prédiction</span>"
   ]
  },
  {
   "cell_type": "code",
   "execution_count": 48,
   "id": "677cf02c-8216-4920-82ad-28b6de7df711",
   "metadata": {},
   "outputs": [
    {
     "data": {
      "text/plain": [
       "{'classifier__C': 1,\n",
       " 'classifier__max_iter': 500,\n",
       " 'classifier__penalty': 'l1',\n",
       " 'classifier__solver': 'saga'}"
      ]
     },
     "execution_count": 48,
     "metadata": {},
     "output_type": "execute_result"
    }
   ],
   "source": [
    "pipe_gscv_lr.best_params_"
   ]
  },
  {
   "cell_type": "code",
   "execution_count": 49,
   "id": "b0e83173-56a6-41a7-8587-972bcdd4e246",
   "metadata": {},
   "outputs": [
    {
     "data": {
      "text/plain": [
       "Pipeline(steps=[('preprocessor',\n",
       "                 ColumnTransformer(remainder='passthrough',\n",
       "                                   transformers=[('numerical_code',\n",
       "                                                  StandardScaler(),\n",
       "                                                  <sklearn.compose._column_transformer.make_column_selector object at 0x0000029557F7C0D0>),\n",
       "                                                 ('numerical_var',\n",
       "                                                  StandardScaler(),\n",
       "                                                  <sklearn.compose._column_transformer.make_column_selector object at 0x0000029557F7C820>),\n",
       "                                                 ('categorical',\n",
       "                                                  OneHotEncoder(drop='first',\n",
       "                                                                handle_unknown='ignore'),\n",
       "                                                  <sklearn.compose._column_transformer.make_column_selector object at 0x0000029557F7C8B0>)])),\n",
       "                ('classifier',\n",
       "                 LogisticRegression(C=1, max_iter=500, penalty='l1',\n",
       "                                    random_state=0, solver='saga'))])"
      ]
     },
     "execution_count": 49,
     "metadata": {},
     "output_type": "execute_result"
    }
   ],
   "source": [
    "best_clf = Pipeline([\n",
    "        ('preprocessor', preprocessor), \n",
    "        ('classifier', LogisticRegression(C = pipe_gscv_lr.best_params_[\"classifier__C\"],\n",
    "                                          penalty = pipe_gscv_lr.best_params_[\"classifier__penalty\"],\n",
    "                                          max_iter = pipe_gscv_lr.best_params_[\"classifier__max_iter\"],\n",
    "                                          solver = pipe_gscv_lr.best_params_[\"classifier__solver\"],\n",
    "                                          random_state=SEED))\n",
    "    ])\n",
    "\n",
    "best_clf.fit(X_train, y_train)"
   ]
  },
  {
   "cell_type": "code",
   "execution_count": 50,
   "id": "5bec8131-d445-4a0c-a2db-98272cd14b74",
   "metadata": {},
   "outputs": [],
   "source": [
    "y_train_pred_lr = best_clf.predict(X_train)"
   ]
  },
  {
   "cell_type": "code",
   "execution_count": 51,
   "id": "3f01d98a-bb06-4721-9035-6580c2e6e6a3",
   "metadata": {},
   "outputs": [
    {
     "name": "stdout",
     "output_type": "stream",
     "text": [
      "              precision    recall  f1-score   support\n",
      "\n",
      "     class 0       0.84      0.69      0.76       437\n",
      "     class 1       0.94      0.97      0.95      2054\n",
      "\n",
      "    accuracy                           0.92      2491\n",
      "   macro avg       0.89      0.83      0.86      2491\n",
      "weighted avg       0.92      0.92      0.92      2491\n",
      "\n"
     ]
    }
   ],
   "source": [
    "# classification_report - jeu de train\n",
    "\n",
    "target_names_train = ['class 0', 'class 1',]\n",
    "print(classification_report(y_train, y_train_pred_lr, target_names=target_names_train))"
   ]
  },
  {
   "cell_type": "markdown",
   "id": "e0c23273-fb2f-4c97-881b-4326ea57ec8a",
   "metadata": {},
   "source": [
    "#### <span style=\"color:#011C5D\">Interprétation</span>"
   ]
  },
  {
   "cell_type": "code",
   "execution_count": 52,
   "id": "2c5d03f5-5781-468f-9c57-ee9d6ebd8c31",
   "metadata": {},
   "outputs": [
    {
     "data": {
      "image/png": "[encoded data removed]",
      "text/plain": [
       "<Figure size 640x480 with 1 Axes>"
      ]
     },
     "metadata": {},
     "output_type": "display_data"
    }
   ],
   "source": [
    "# Analyse Features importance\n",
    "\n",
    "def display_feat_imp_reg(reg):\n",
    "  feat_imp_reg = best_clf['classifier'].coef_[0]\n",
    "  reg_feat_importance = pd.DataFrame(columns=[\"Feature Name\", \"Feature Importance\"])\n",
    "  reg_feat_importance[\"Feature Name\"] = pd.Series(reg.feature_names_in_)\n",
    "  reg_feat_importance[\"Feature Importance\"] = pd.Series(feat_imp_reg)\n",
    "  reg_feat_importance.plot.barh(y=\"Feature Importance\", x=\"Feature Name\", title=\"Feature importance\")\n",
    " \n",
    "display_feat_imp_reg(best_clf)"
   ]
  },
  {
   "cell_type": "code",
   "execution_count": 53,
   "id": "b8a157b3-1dcd-49cb-800f-5c240e3fd78d",
   "metadata": {},
   "outputs": [
    {
     "data": {
      "text/html": [
       "<div>\n",
       "<style scoped>\n",
       "    .dataframe tbody tr th:only-of-type {\n",
       "        vertical-align: middle;\n",
       "    }\n",
       "\n",
       "    .dataframe tbody tr th {\n",
       "        vertical-align: top;\n",
       "    }\n",
       "\n",
       "    .dataframe thead th {\n",
       "        text-align: right;\n",
       "    }\n",
       "</style>\n",
       "<table border=\"1\" class=\"dataframe\">\n",
       "  <thead>\n",
       "    <tr style=\"text-align: right;\">\n",
       "      <th></th>\n",
       "      <th>Coefficients</th>\n",
       "    </tr>\n",
       "  </thead>\n",
       "  <tbody>\n",
       "    <tr>\n",
       "      <th>numerical_code__FIPS Code</th>\n",
       "      <td>-0.175345</td>\n",
       "    </tr>\n",
       "    <tr>\n",
       "      <th>numerical_var__2013 Rural-urban Continuum Code</th>\n",
       "      <td>0.399803</td>\n",
       "    </tr>\n",
       "    <tr>\n",
       "      <th>numerical_var__Percent of adults with less than a high school diploma, 2015-19</th>\n",
       "      <td>0.000000</td>\n",
       "    </tr>\n",
       "    <tr>\n",
       "      <th>numerical_var__Percent of adults with a high school diploma only, 2015-19</th>\n",
       "      <td>0.446024</td>\n",
       "    </tr>\n",
       "    <tr>\n",
       "      <th>numerical_var__Percent of adults completing some college or associate's degree, 2015-19</th>\n",
       "      <td>0.435643</td>\n",
       "    </tr>\n",
       "    <tr>\n",
       "      <th>...</th>\n",
       "      <td>...</td>\n",
       "    </tr>\n",
       "    <tr>\n",
       "      <th>categorical__Area name_Yolo County</th>\n",
       "      <td>0.000000</td>\n",
       "    </tr>\n",
       "    <tr>\n",
       "      <th>categorical__Area name_York County</th>\n",
       "      <td>0.000000</td>\n",
       "    </tr>\n",
       "    <tr>\n",
       "      <th>categorical__Area name_Yuba County</th>\n",
       "      <td>0.000000</td>\n",
       "    </tr>\n",
       "    <tr>\n",
       "      <th>categorical__Area name_Yuma County</th>\n",
       "      <td>0.000000</td>\n",
       "    </tr>\n",
       "    <tr>\n",
       "      <th>categorical__Area name_Ziebach County</th>\n",
       "      <td>0.000000</td>\n",
       "    </tr>\n",
       "  </tbody>\n",
       "</table>\n",
       "<p>1598 rows × 1 columns</p>\n",
       "</div>"
      ],
      "text/plain": [
       "                                                    Coefficients\n",
       "numerical_code__FIPS Code                              -0.175345\n",
       "numerical_var__2013 Rural-urban Continuum Code          0.399803\n",
       "numerical_var__Percent of adults with less than...      0.000000\n",
       "numerical_var__Percent of adults with a high sc...      0.446024\n",
       "numerical_var__Percent of adults completing som...      0.435643\n",
       "...                                                          ...\n",
       "categorical__Area name_Yolo County                      0.000000\n",
       "categorical__Area name_York County                      0.000000\n",
       "categorical__Area name_Yuba County                      0.000000\n",
       "categorical__Area name_Yuma County                      0.000000\n",
       "categorical__Area name_Ziebach County                   0.000000\n",
       "\n",
       "[1598 rows x 1 columns]"
      ]
     },
     "execution_count": 53,
     "metadata": {},
     "output_type": "execute_result"
    }
   ],
   "source": [
    "# Analyse importance des coeff\n",
    "\n",
    "#récuperation coef\n",
    "best_clf_coef = best_clf[-1].coef_.T\n",
    "\n",
    "#recuperation name features\n",
    "feature_names = best_clf[:-1].get_feature_names_out()\n",
    "\n",
    "coefs = pd.DataFrame(\n",
    "    best_clf_coef,\n",
    "    columns=[\"Coefficients\"],\n",
    "    index=feature_names,\n",
    ")\n",
    "\n",
    "coefs"
   ]
  },
  {
   "cell_type": "code",
   "execution_count": 54,
   "id": "ea9a9c25-f303-47c2-b621-badc24f76f2c",
   "metadata": {},
   "outputs": [
    {
     "data": {
      "image/png": "[encoded data removed]",
      "text/plain": [
       "<Figure size 1000x1500 with 1 Axes>"
      ]
     },
     "metadata": {},
     "output_type": "display_data"
    }
   ],
   "source": [
    "# Représentation importance des coeff\n",
    "\n",
    "coefs[coefs['Coefficients'] != 0].sort_values(by = \"Coefficients\", ascending = True).plot(kind='barh', figsize=(10, 15))\n",
    "plt.title('Logistic regression')\n",
    "plt.axvline(x=0, color='.5')\n",
    "plt.xlabel(\"Raw coefficient values\")\n",
    "plt.subplots_adjust(left=.3)"
   ]
  },
  {
   "cell_type": "markdown",
   "id": "3d84d35b-8cce-4f4e-b7fa-4b3d8439d087",
   "metadata": {},
   "source": [
    "Nous pouvons voir que l'Etat de résidence influe complètement sur le vote. <br>\n",
    "Les citoyens de certains Etats comme l'Oklahoma (OK), le Kentucky (KY) ou encore dans le Tennessee (TN) voteront presque toujours pour les Republicains. <br>\n",
    "A contrario, le Vermont (VT), le Maine (ME) ou la Californie (CA) voteront pour les Democrates. <br>\n",
    "Le taux de pauvreté va également influencer le vote : plus il sera élevé, plus le vote ira vers les Democrates. Même chose pour le taux de chômage. <br>\n",
    "En revanche, plus le niveau de diplôme est élevé, plus le vote ira aux Républicains. <br>\n",
    "Les gens les plus \"aisés\" voteront plus pour les Républicains également."
   ]
  },
  {
   "cell_type": "markdown",
   "id": "ba1d29cb-e73c-4a21-ab5d-4450e89ac0da",
   "metadata": {},
   "source": [
    "### <span style=\"color:#011C5D\">3.8. Evaluation finale</span>"
   ]
  },
  {
   "cell_type": "code",
   "execution_count": 55,
   "id": "0c23c874-2b91-4035-a9b8-c47edc71cc9c",
   "metadata": {},
   "outputs": [
    {
     "data": {
      "text/html": [
       "<div>\n",
       "<style scoped>\n",
       "    .dataframe tbody tr th:only-of-type {\n",
       "        vertical-align: middle;\n",
       "    }\n",
       "\n",
       "    .dataframe tbody tr th {\n",
       "        vertical-align: top;\n",
       "    }\n",
       "\n",
       "    .dataframe thead th {\n",
       "        text-align: right;\n",
       "    }\n",
       "</style>\n",
       "<table border=\"1\" class=\"dataframe\">\n",
       "  <thead>\n",
       "    <tr style=\"text-align: right;\">\n",
       "      <th></th>\n",
       "      <th>FIPS Code</th>\n",
       "      <th>State_x</th>\n",
       "      <th>Area name</th>\n",
       "      <th>2013 Rural-urban Continuum Code</th>\n",
       "      <th>2013 Urban Influence Code</th>\n",
       "      <th>Percent of adults with less than a high school diploma, 2015-19</th>\n",
       "      <th>Percent of adults with a high school diploma only, 2015-19</th>\n",
       "      <th>Percent of adults completing some college or associate's degree, 2015-19</th>\n",
       "      <th>Percent of adults with a bachelor's degree or higher, 2015-19</th>\n",
       "      <th>PCTPOVALL_2019</th>\n",
       "      <th>...</th>\n",
       "      <th>N_POP_CHG_2019</th>\n",
       "      <th>RESIDUAL_2019</th>\n",
       "      <th>GQ_ESTIMATES_2019</th>\n",
       "      <th>R_birth_2019</th>\n",
       "      <th>R_death_2019</th>\n",
       "      <th>R_NATURAL_INC_2019</th>\n",
       "      <th>R_INTERNATIONAL_MIG_2019</th>\n",
       "      <th>R_DOMESTIC_MIG_2019</th>\n",
       "      <th>R_NET_MIG_2019</th>\n",
       "      <th>target</th>\n",
       "    </tr>\n",
       "  </thead>\n",
       "  <tbody>\n",
       "    <tr>\n",
       "      <th>0</th>\n",
       "      <td>17133</td>\n",
       "      <td>IL</td>\n",
       "      <td>Monroe County</td>\n",
       "      <td>1.0</td>\n",
       "      <td>1.0</td>\n",
       "      <td>4.034129</td>\n",
       "      <td>27.642479</td>\n",
       "      <td>33.283630</td>\n",
       "      <td>35.039761</td>\n",
       "      <td>4.2</td>\n",
       "      <td>...</td>\n",
       "      <td>264.0</td>\n",
       "      <td>-3.0</td>\n",
       "      <td>344.0</td>\n",
       "      <td>10.404289</td>\n",
       "      <td>9.245037</td>\n",
       "      <td>1.159252</td>\n",
       "      <td>0.000000</td>\n",
       "      <td>6.578757</td>\n",
       "      <td>6.578757</td>\n",
       "      <td>1.0</td>\n",
       "    </tr>\n",
       "    <tr>\n",
       "      <th>1</th>\n",
       "      <td>17077</td>\n",
       "      <td>IL</td>\n",
       "      <td>Jackson County</td>\n",
       "      <td>3.0</td>\n",
       "      <td>2.0</td>\n",
       "      <td>8.104560</td>\n",
       "      <td>24.073969</td>\n",
       "      <td>33.705269</td>\n",
       "      <td>34.116203</td>\n",
       "      <td>25.4</td>\n",
       "      <td>...</td>\n",
       "      <td>-539.0</td>\n",
       "      <td>4.0</td>\n",
       "      <td>3586.0</td>\n",
       "      <td>10.768246</td>\n",
       "      <td>8.698778</td>\n",
       "      <td>2.069467</td>\n",
       "      <td>3.226966</td>\n",
       "      <td>-14.819492</td>\n",
       "      <td>-11.592525</td>\n",
       "      <td>0.0</td>\n",
       "    </tr>\n",
       "    <tr>\n",
       "      <th>2</th>\n",
       "      <td>30097</td>\n",
       "      <td>MT</td>\n",
       "      <td>Sweet Grass County</td>\n",
       "      <td>9.0</td>\n",
       "      <td>12.0</td>\n",
       "      <td>5.431193</td>\n",
       "      <td>36.587154</td>\n",
       "      <td>32.623852</td>\n",
       "      <td>25.357798</td>\n",
       "      <td>10.3</td>\n",
       "      <td>...</td>\n",
       "      <td>34.0</td>\n",
       "      <td>0.0</td>\n",
       "      <td>45.0</td>\n",
       "      <td>9.139785</td>\n",
       "      <td>8.870968</td>\n",
       "      <td>0.268817</td>\n",
       "      <td>0.537634</td>\n",
       "      <td>8.333333</td>\n",
       "      <td>8.870968</td>\n",
       "      <td>1.0</td>\n",
       "    </tr>\n",
       "    <tr>\n",
       "      <th>3</th>\n",
       "      <td>6075</td>\n",
       "      <td>CA</td>\n",
       "      <td>San Francisco County</td>\n",
       "      <td>1.0</td>\n",
       "      <td>1.0</td>\n",
       "      <td>11.534667</td>\n",
       "      <td>12.051112</td>\n",
       "      <td>18.353155</td>\n",
       "      <td>58.061066</td>\n",
       "      <td>9.5</td>\n",
       "      <td>...</td>\n",
       "      <td>853.0</td>\n",
       "      <td>-60.0</td>\n",
       "      <td>24242.0</td>\n",
       "      <td>10.064435</td>\n",
       "      <td>7.216931</td>\n",
       "      <td>2.847504</td>\n",
       "      <td>5.104852</td>\n",
       "      <td>-6.916178</td>\n",
       "      <td>-1.811326</td>\n",
       "      <td>0.0</td>\n",
       "    </tr>\n",
       "    <tr>\n",
       "      <th>4</th>\n",
       "      <td>30067</td>\n",
       "      <td>MT</td>\n",
       "      <td>Park County</td>\n",
       "      <td>7.0</td>\n",
       "      <td>9.0</td>\n",
       "      <td>5.507154</td>\n",
       "      <td>29.917673</td>\n",
       "      <td>33.122852</td>\n",
       "      <td>31.452322</td>\n",
       "      <td>11.8</td>\n",
       "      <td>...</td>\n",
       "      <td>-42.0</td>\n",
       "      <td>-2.0</td>\n",
       "      <td>108.0</td>\n",
       "      <td>9.262044</td>\n",
       "      <td>9.983761</td>\n",
       "      <td>-0.721718</td>\n",
       "      <td>-0.240573</td>\n",
       "      <td>-1.443435</td>\n",
       "      <td>-1.684008</td>\n",
       "      <td>1.0</td>\n",
       "    </tr>\n",
       "  </tbody>\n",
       "</table>\n",
       "<p>5 rows × 39 columns</p>\n",
       "</div>"
      ],
      "text/plain": [
       "   FIPS Code State_x             Area name  2013 Rural-urban Continuum Code  \\\n",
       "0      17133      IL         Monroe County                              1.0   \n",
       "1      17077      IL        Jackson County                              3.0   \n",
       "2      30097      MT    Sweet Grass County                              9.0   \n",
       "3       6075      CA  San Francisco County                              1.0   \n",
       "4      30067      MT           Park County                              7.0   \n",
       "\n",
       "   2013 Urban Influence Code  \\\n",
       "0                        1.0   \n",
       "1                        2.0   \n",
       "2                       12.0   \n",
       "3                        1.0   \n",
       "4                        9.0   \n",
       "\n",
       "   Percent of adults with less than a high school diploma, 2015-19  \\\n",
       "0                                           4.034129                 \n",
       "1                                           8.104560                 \n",
       "2                                           5.431193                 \n",
       "3                                          11.534667                 \n",
       "4                                           5.507154                 \n",
       "\n",
       "   Percent of adults with a high school diploma only, 2015-19  \\\n",
       "0                                          27.642479            \n",
       "1                                          24.073969            \n",
       "2                                          36.587154            \n",
       "3                                          12.051112            \n",
       "4                                          29.917673            \n",
       "\n",
       "   Percent of adults completing some college or associate's degree, 2015-19  \\\n",
       "0                                          33.283630                          \n",
       "1                                          33.705269                          \n",
       "2                                          32.623852                          \n",
       "3                                          18.353155                          \n",
       "4                                          33.122852                          \n",
       "\n",
       "   Percent of adults with a bachelor's degree or higher, 2015-19  \\\n",
       "0                                          35.039761               \n",
       "1                                          34.116203               \n",
       "2                                          25.357798               \n",
       "3                                          58.061066               \n",
       "4                                          31.452322               \n",
       "\n",
       "   PCTPOVALL_2019  ...  N_POP_CHG_2019  RESIDUAL_2019  GQ_ESTIMATES_2019  \\\n",
       "0             4.2  ...           264.0           -3.0              344.0   \n",
       "1            25.4  ...          -539.0            4.0             3586.0   \n",
       "2            10.3  ...            34.0            0.0               45.0   \n",
       "3             9.5  ...           853.0          -60.0            24242.0   \n",
       "4            11.8  ...           -42.0           -2.0              108.0   \n",
       "\n",
       "   R_birth_2019  R_death_2019  R_NATURAL_INC_2019  R_INTERNATIONAL_MIG_2019  \\\n",
       "0     10.404289      9.245037            1.159252                  0.000000   \n",
       "1     10.768246      8.698778            2.069467                  3.226966   \n",
       "2      9.139785      8.870968            0.268817                  0.537634   \n",
       "3     10.064435      7.216931            2.847504                  5.104852   \n",
       "4      9.262044      9.983761           -0.721718                 -0.240573   \n",
       "\n",
       "   R_DOMESTIC_MIG_2019  R_NET_MIG_2019  target  \n",
       "0             6.578757        6.578757     1.0  \n",
       "1           -14.819492      -11.592525     0.0  \n",
       "2             8.333333        8.870968     1.0  \n",
       "3            -6.916178       -1.811326     0.0  \n",
       "4            -1.443435       -1.684008     1.0  \n",
       "\n",
       "[5 rows x 39 columns]"
      ]
     },
     "execution_count": 55,
     "metadata": {},
     "output_type": "execute_result"
    }
   ],
   "source": [
    "df_2019_pct_test = pd.read_csv('data\\outputs\\df_2019_pct_test.csv', sep=',')\n",
    "df_2019_pct_test.head()"
   ]
  },
  {
   "cell_type": "code",
   "execution_count": 56,
   "id": "e99f5034-ad2b-449e-935f-f1c22eb25b0c",
   "metadata": {},
   "outputs": [],
   "source": [
    "#jeu de test pour évaluation finale : df_2019_pct_test\n",
    "#application des memes modif que sur le jeu de train\n",
    "\n",
    "df_2019_pct_test2 = df_2019_pct_test.drop(df_2019_pct_test[(df_2019_pct_test[\"State_x\"]=='PR')].index)\n",
    "df_target_clean_test = df_2019_pct_test2.drop(df_2019_pct_test2[(df_2019_pct_test2[\"target\"].isna())].index)\n",
    "df_target_clean_test.reset_index(drop=True, inplace=True)\n",
    "\n",
    "df_target_clean_drop = ['2013 Urban Influence Code', 'CI90LBALLP_2019', 'CI90UBALLP_2019', 'PCTPOV017_2019', 'CI90LB017P_2019', 'CI90UB017P_2019','PCTPOV517_2019', 'CI90LB517P_2019', \n",
    "                        'CI90UB517P_2019', 'CI90LBINC_2019', 'CI90UBINC_2019', 'Metro_2013', 'Civilian_labor_force_2019', 'Employed_2019', 'Unemployed_2019', 'Median_Household_Income_2019', \n",
    "                        'Economic_typology_2015','RESIDUAL_2019', 'GQ_ESTIMATES_2019', 'R_birth_2019', 'R_death_2019','R_DOMESTIC_MIG_2019']\n",
    "\n",
    "df_test_prepro = df_target_clean_test.drop(columns=df_target_clean_drop, axis=1)"
   ]
  },
  {
   "cell_type": "code",
   "execution_count": 57,
   "id": "8aed522e-e76b-456d-99a5-7c3a4a5965c3",
   "metadata": {},
   "outputs": [
    {
     "data": {
      "text/html": [
       "<div>\n",
       "<style scoped>\n",
       "    .dataframe tbody tr th:only-of-type {\n",
       "        vertical-align: middle;\n",
       "    }\n",
       "\n",
       "    .dataframe tbody tr th {\n",
       "        vertical-align: top;\n",
       "    }\n",
       "\n",
       "    .dataframe thead th {\n",
       "        text-align: right;\n",
       "    }\n",
       "</style>\n",
       "<table border=\"1\" class=\"dataframe\">\n",
       "  <thead>\n",
       "    <tr style=\"text-align: right;\">\n",
       "      <th></th>\n",
       "      <th>FIPS Code</th>\n",
       "      <th>State_x</th>\n",
       "      <th>Area name</th>\n",
       "      <th>2013 Rural-urban Continuum Code</th>\n",
       "      <th>Percent of adults with less than a high school diploma, 2015-19</th>\n",
       "      <th>Percent of adults with a high school diploma only, 2015-19</th>\n",
       "      <th>Percent of adults completing some college or associate's degree, 2015-19</th>\n",
       "      <th>Percent of adults with a bachelor's degree or higher, 2015-19</th>\n",
       "      <th>PCTPOVALL_2019</th>\n",
       "      <th>Unemployment_rate_2019</th>\n",
       "      <th>Med_HH_Income_Percent_of_State_Total_2019</th>\n",
       "      <th>POP_ESTIMATE_2019</th>\n",
       "      <th>N_POP_CHG_2019</th>\n",
       "      <th>R_NATURAL_INC_2019</th>\n",
       "      <th>R_INTERNATIONAL_MIG_2019</th>\n",
       "      <th>R_NET_MIG_2019</th>\n",
       "      <th>target</th>\n",
       "    </tr>\n",
       "  </thead>\n",
       "  <tbody>\n",
       "    <tr>\n",
       "      <th>0</th>\n",
       "      <td>17133</td>\n",
       "      <td>IL</td>\n",
       "      <td>Monroe County</td>\n",
       "      <td>1.0</td>\n",
       "      <td>4.034129</td>\n",
       "      <td>27.642479</td>\n",
       "      <td>33.283630</td>\n",
       "      <td>35.039761</td>\n",
       "      <td>4.2</td>\n",
       "      <td>3.1</td>\n",
       "      <td>131.341385</td>\n",
       "      <td>34637.0</td>\n",
       "      <td>264.0</td>\n",
       "      <td>1.159252</td>\n",
       "      <td>0.000000</td>\n",
       "      <td>6.578757</td>\n",
       "      <td>1.0</td>\n",
       "    </tr>\n",
       "    <tr>\n",
       "      <th>1</th>\n",
       "      <td>17077</td>\n",
       "      <td>IL</td>\n",
       "      <td>Jackson County</td>\n",
       "      <td>3.0</td>\n",
       "      <td>8.104560</td>\n",
       "      <td>24.073969</td>\n",
       "      <td>33.705269</td>\n",
       "      <td>34.116203</td>\n",
       "      <td>25.4</td>\n",
       "      <td>3.8</td>\n",
       "      <td>53.903946</td>\n",
       "      <td>56750.0</td>\n",
       "      <td>-539.0</td>\n",
       "      <td>2.069467</td>\n",
       "      <td>3.226966</td>\n",
       "      <td>-11.592525</td>\n",
       "      <td>0.0</td>\n",
       "    </tr>\n",
       "    <tr>\n",
       "      <th>2</th>\n",
       "      <td>30097</td>\n",
       "      <td>MT</td>\n",
       "      <td>Sweet Grass County</td>\n",
       "      <td>9.0</td>\n",
       "      <td>5.431193</td>\n",
       "      <td>36.587154</td>\n",
       "      <td>32.623852</td>\n",
       "      <td>25.357798</td>\n",
       "      <td>10.3</td>\n",
       "      <td>2.8</td>\n",
       "      <td>96.525642</td>\n",
       "      <td>3737.0</td>\n",
       "      <td>34.0</td>\n",
       "      <td>0.268817</td>\n",
       "      <td>0.537634</td>\n",
       "      <td>8.870968</td>\n",
       "      <td>1.0</td>\n",
       "    </tr>\n",
       "    <tr>\n",
       "      <th>3</th>\n",
       "      <td>6075</td>\n",
       "      <td>CA</td>\n",
       "      <td>San Francisco County</td>\n",
       "      <td>1.0</td>\n",
       "      <td>11.534667</td>\n",
       "      <td>12.051112</td>\n",
       "      <td>18.353155</td>\n",
       "      <td>58.061066</td>\n",
       "      <td>9.5</td>\n",
       "      <td>2.2</td>\n",
       "      <td>151.442993</td>\n",
       "      <td>881549.0</td>\n",
       "      <td>853.0</td>\n",
       "      <td>2.847504</td>\n",
       "      <td>5.104852</td>\n",
       "      <td>-1.811326</td>\n",
       "      <td>0.0</td>\n",
       "    </tr>\n",
       "    <tr>\n",
       "      <th>4</th>\n",
       "      <td>30067</td>\n",
       "      <td>MT</td>\n",
       "      <td>Park County</td>\n",
       "      <td>7.0</td>\n",
       "      <td>5.507154</td>\n",
       "      <td>29.917673</td>\n",
       "      <td>33.122852</td>\n",
       "      <td>31.452322</td>\n",
       "      <td>11.8</td>\n",
       "      <td>3.4</td>\n",
       "      <td>90.378700</td>\n",
       "      <td>16606.0</td>\n",
       "      <td>-42.0</td>\n",
       "      <td>-0.721718</td>\n",
       "      <td>-0.240573</td>\n",
       "      <td>-1.684008</td>\n",
       "      <td>1.0</td>\n",
       "    </tr>\n",
       "  </tbody>\n",
       "</table>\n",
       "</div>"
      ],
      "text/plain": [
       "   FIPS Code State_x             Area name  2013 Rural-urban Continuum Code  \\\n",
       "0      17133      IL         Monroe County                              1.0   \n",
       "1      17077      IL        Jackson County                              3.0   \n",
       "2      30097      MT    Sweet Grass County                              9.0   \n",
       "3       6075      CA  San Francisco County                              1.0   \n",
       "4      30067      MT           Park County                              7.0   \n",
       "\n",
       "   Percent of adults with less than a high school diploma, 2015-19  \\\n",
       "0                                           4.034129                 \n",
       "1                                           8.104560                 \n",
       "2                                           5.431193                 \n",
       "3                                          11.534667                 \n",
       "4                                           5.507154                 \n",
       "\n",
       "   Percent of adults with a high school diploma only, 2015-19  \\\n",
       "0                                          27.642479            \n",
       "1                                          24.073969            \n",
       "2                                          36.587154            \n",
       "3                                          12.051112            \n",
       "4                                          29.917673            \n",
       "\n",
       "   Percent of adults completing some college or associate's degree, 2015-19  \\\n",
       "0                                          33.283630                          \n",
       "1                                          33.705269                          \n",
       "2                                          32.623852                          \n",
       "3                                          18.353155                          \n",
       "4                                          33.122852                          \n",
       "\n",
       "   Percent of adults with a bachelor's degree or higher, 2015-19  \\\n",
       "0                                          35.039761               \n",
       "1                                          34.116203               \n",
       "2                                          25.357798               \n",
       "3                                          58.061066               \n",
       "4                                          31.452322               \n",
       "\n",
       "   PCTPOVALL_2019  Unemployment_rate_2019  \\\n",
       "0             4.2                     3.1   \n",
       "1            25.4                     3.8   \n",
       "2            10.3                     2.8   \n",
       "3             9.5                     2.2   \n",
       "4            11.8                     3.4   \n",
       "\n",
       "   Med_HH_Income_Percent_of_State_Total_2019  POP_ESTIMATE_2019  \\\n",
       "0                                 131.341385            34637.0   \n",
       "1                                  53.903946            56750.0   \n",
       "2                                  96.525642             3737.0   \n",
       "3                                 151.442993           881549.0   \n",
       "4                                  90.378700            16606.0   \n",
       "\n",
       "   N_POP_CHG_2019  R_NATURAL_INC_2019  R_INTERNATIONAL_MIG_2019  \\\n",
       "0           264.0            1.159252                  0.000000   \n",
       "1          -539.0            2.069467                  3.226966   \n",
       "2            34.0            0.268817                  0.537634   \n",
       "3           853.0            2.847504                  5.104852   \n",
       "4           -42.0           -0.721718                 -0.240573   \n",
       "\n",
       "   R_NET_MIG_2019  target  \n",
       "0        6.578757     1.0  \n",
       "1      -11.592525     0.0  \n",
       "2        8.870968     1.0  \n",
       "3       -1.811326     0.0  \n",
       "4       -1.684008     1.0  "
      ]
     },
     "execution_count": 57,
     "metadata": {},
     "output_type": "execute_result"
    }
   ],
   "source": [
    "df_test_prepro.head()"
   ]
  },
  {
   "cell_type": "code",
   "execution_count": 58,
   "id": "de0500d5-70db-48c9-aef2-8d13f5b4faaa",
   "metadata": {},
   "outputs": [
    {
     "data": {
      "text/plain": [
       "1.0    0.837359\n",
       "0.0    0.162641\n",
       "Name: target, dtype: float64"
      ]
     },
     "execution_count": 58,
     "metadata": {},
     "output_type": "execute_result"
    }
   ],
   "source": [
    "df_test_prepro['target'].value_counts(normalize=True)"
   ]
  },
  {
   "cell_type": "code",
   "execution_count": 59,
   "id": "459cfb00-8c02-42bc-af1d-a201aa1d24be",
   "metadata": {},
   "outputs": [
    {
     "data": {
      "text/plain": [
       "TX    50\n",
       "GA    32\n",
       "VA    26\n",
       "KY    24\n",
       "MO    23\n",
       "KS    21\n",
       "IA    20\n",
       "IL    20\n",
       "NC    20\n",
       "NE    19\n",
       "TN    19\n",
       "MN    18\n",
       "IN    18\n",
       "OH    17\n",
       "MS    17\n",
       "MI    17\n",
       "OK    16\n",
       "WI    15\n",
       "AR    14\n",
       "FL    14\n",
       "PA    14\n",
       "AL    14\n",
       "NY    13\n",
       "SD    13\n",
       "LA    12\n",
       "CA    12\n",
       "CO    12\n",
       "ND    11\n",
       "WV    11\n",
       "MT    11\n",
       "SC     9\n",
       "WA     8\n",
       "ID     8\n",
       "NM     7\n",
       "OR     7\n",
       "MD     5\n",
       "UT     5\n",
       "WY     4\n",
       "NJ     4\n",
       "MA     3\n",
       "ME     3\n",
       "NV     3\n",
       "AZ     3\n",
       "VT     2\n",
       "CT     2\n",
       "NH     2\n",
       "DE     1\n",
       "RI     1\n",
       "HI     1\n",
       "Name: State_x, dtype: int64"
      ]
     },
     "execution_count": 59,
     "metadata": {},
     "output_type": "execute_result"
    }
   ],
   "source": [
    "df_test_prepro['State_x'].value_counts()"
   ]
  },
  {
   "cell_type": "code",
   "execution_count": 60,
   "id": "b04b33c0-800b-4c54-a226-5eeae5379b3f",
   "metadata": {},
   "outputs": [],
   "source": [
    "y_test = df_test_prepro['target'].values\n",
    "X_test = df_test_prepro.drop(columns=['target'])"
   ]
  },
  {
   "cell_type": "code",
   "execution_count": 61,
   "id": "bd7938b3-4b5a-4675-bb4d-2a7790c41d28",
   "metadata": {},
   "outputs": [
    {
     "data": {
      "text/plain": [
       "Pipeline(steps=[('preprocessor',\n",
       "                 ColumnTransformer(remainder='passthrough',\n",
       "                                   transformers=[('numerical_code',\n",
       "                                                  StandardScaler(),\n",
       "                                                  <sklearn.compose._column_transformer.make_column_selector object at 0x0000029557F7C0D0>),\n",
       "                                                 ('numerical_var',\n",
       "                                                  StandardScaler(),\n",
       "                                                  <sklearn.compose._column_transformer.make_column_selector object at 0x0000029557F7C820>),\n",
       "                                                 ('categorical',\n",
       "                                                  OneHotEncoder(drop='first',\n",
       "                                                                handle_unknown='ignore'),\n",
       "                                                  <sklearn.compose._column_transformer.make_column_selector object at 0x0000029557F7C8B0>)])),\n",
       "                ('classifier',\n",
       "                 LogisticRegression(C=1, max_iter=500, penalty='l1',\n",
       "                                    random_state=0, solver='saga'))])"
      ]
     },
     "execution_count": 61,
     "metadata": {},
     "output_type": "execute_result"
    }
   ],
   "source": [
    "best_clf = Pipeline([\n",
    "        ('preprocessor', preprocessor), \n",
    "        ('classifier', LogisticRegression(C = pipe_gscv_lr.best_params_[\"classifier__C\"],\n",
    "                                          penalty = pipe_gscv_lr.best_params_[\"classifier__penalty\"],\n",
    "                                          max_iter = pipe_gscv_lr.best_params_[\"classifier__max_iter\"],\n",
    "                                          solver = pipe_gscv_lr.best_params_[\"classifier__solver\"],\n",
    "                                          random_state=SEED))\n",
    "    ])\n",
    "\n",
    "best_clf.fit(X_test, y_test)"
   ]
  },
  {
   "cell_type": "code",
   "execution_count": 62,
   "id": "c5b6f4e6-c211-46b3-bcd8-4e32606f2906",
   "metadata": {},
   "outputs": [
    {
     "name": "stdout",
     "output_type": "stream",
     "text": [
      "Le score F1 sur le jeu de test est de 95.1 %\n"
     ]
    }
   ],
   "source": [
    "y_test_pred = best_clf.predict(X_test)\n",
    "\n",
    "print(f\"Le score F1 sur le jeu de test est de {round(f1_score(y_test, y_test_pred)*100,2)} %\")"
   ]
  },
  {
   "cell_type": "code",
   "execution_count": 63,
   "id": "7bbc195e-fcef-4a76-84f6-4e3d0fa60f6e",
   "metadata": {},
   "outputs": [
    {
     "name": "stdout",
     "output_type": "stream",
     "text": [
      "              precision    recall  f1-score   support\n",
      "\n",
      "     class 0       0.81      0.63      0.71       101\n",
      "     class 1       0.93      0.97      0.95       520\n",
      "\n",
      "    accuracy                           0.92       621\n",
      "   macro avg       0.87      0.80      0.83       621\n",
      "weighted avg       0.91      0.92      0.91       621\n",
      "\n"
     ]
    }
   ],
   "source": [
    "# classification_report - jeu de test\n",
    "\n",
    "target_names = ['class 0', 'class 1',]\n",
    "print(classification_report(y_test, y_test_pred, target_names=target_names))"
   ]
  },
  {
   "cell_type": "markdown",
   "id": "0544960b-dbe6-440f-b4f2-57e6a7bd22ba",
   "metadata": {},
   "source": [
    "Conclusion : <br> \n",
    "Le modèle prédit mieux la classe des Républicains (class 1) que celle des Démocrates"
   ]
  }
 ],
 "metadata": {
  "kernelspec": {
   "display_name": "Python 3 (ipykernel)",
   "language": "python",
   "name": "python3"
  },
  "language_info": {
   "codemirror_mode": {
    "name": "ipython",
    "version": 3
   },
   "file_extension": ".py",
   "mimetype": "text/x-python",
   "name": "python",
   "nbconvert_exporter": "python",
   "pygments_lexer": "ipython3",
   "version": "3.9.13"
  }
 },
 "nbformat": 4,
 "nbformat_minor": 5
}
